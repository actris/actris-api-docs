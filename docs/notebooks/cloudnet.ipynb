{
 "cells": [
  {
   "cell_type": "code",
   "execution_count": 454,
   "metadata": {},
   "outputs": [],
   "source": [
    "import json\n",
    "import requests\n",
    "from datetime import datetime"
   ]
  },
  {
   "cell_type": "code",
   "execution_count": 455,
   "metadata": {},
   "outputs": [],
   "source": [
    "url = 'http://devcloudnet.fmi.fi/api/files2/?site_code=hyytiala'\n",
    "\n",
    "response = requests.get(url)\n",
    "metadata = response.json()\n",
    "file_md = metadata[0]"
   ]
  },
  {
   "cell_type": "markdown",
   "metadata": {},
   "source": [
    "### md_metadata\n",
    "Metadata related to the metadata"
   ]
  },
  {
   "cell_type": "code",
   "execution_count": 456,
   "metadata": {},
   "outputs": [
    {
     "name": "stdout",
     "output_type": "stream",
     "text": [
      "{'file_identifier': '20200208_hyytiala_drizzle.nc', 'language': 'en', 'hierarchy_level': 'dataset', 'datestamp': '2020-02-10T08:11:49', 'contact': [{'first_name': 'Simo', 'last_name': 'Tukiainen', 'organisation_name': 'FMI', 'position_name': None, 'role_code': ['custodian'], 'delivery_point': None, 'address_city': None, 'administrative_area': None, 'postal_code': None, 'country': 'Finland', 'email': None}], 'online_resource': {'linkage': 'http://devcloudnet.fmi.fi/'}}\n"
     ]
    }
   ],
   "source": [
    "md_metadata = {}\n",
    "\n",
    "contact = []\n",
    "person = {}\n",
    "\n",
    "person['first_name'] = 'Simo'\n",
    "person['last_name'] = 'Tukiainen'\n",
    "person['organisation_name'] = 'FMI'\n",
    "person['position_name'] = None\n",
    "person['role_code'] = ['custodian']\n",
    "person['delivery_point'] = None\n",
    "person['address_city'] = None\n",
    "person['administrative_area'] = None\n",
    "person['postal_code'] = None\n",
    "person['country'] = 'Finland'\n",
    "person['email'] = None\n",
    "\n",
    "contact.append(person)\n",
    "\n",
    "online_resource = {'linkage': 'http://devcloudnet.fmi.fi/'}\n",
    "\n",
    "md_metadata['file_identifier'] = file_md['file_name'].split('/')[-1]\n",
    "md_metadata['language'] = 'en'\n",
    "md_metadata['hierarchy_level'] = 'dataset'\n",
    "md_metadata['datestamp'] = datetime.strptime(file_md['db_timestamp'],'%Y-%m-%d %H:%M:%S').isoformat()\n",
    "md_metadata['contact'] = contact\n",
    "md_metadata['online_resource'] = online_resource\n",
    "\n",
    "print(md_metadata)"
   ]
  },
  {
   "cell_type": "markdown",
   "metadata": {},
   "source": [
    "### md_identification\n",
    "Metadata related to the dataset"
   ]
  },
  {
   "cell_type": "code",
   "execution_count": 457,
   "metadata": {},
   "outputs": [
    {
     "name": "stdout",
     "output_type": "stream",
     "text": [
      "{'abstract': 'Unknown', 'title': 'Unknown', 'identifier': None, 'date': '2020-02-08T00:00:00', 'date_type': 'creation', 'contact': [{'first_name': 'Simo', 'last_name': 'Tukiainen', 'organisation_name': 'FMI', 'position_name': None, 'role_code': ['custodian'], 'delivery_point': None, 'address_city': None, 'administrative_area': None, 'postal_code': None, 'country': 'Finland', 'email': None}], 'online_resource': {'linkage': 'http://devcloudnet.fmi.fi/'}}\n"
     ]
    }
   ],
   "source": [
    "md_identification = {}\n",
    "\n",
    "contact = []\n",
    "\n",
    "person['first_name'] = 'Simo'\n",
    "person['last_name'] = 'Tukiainen'\n",
    "person['organisation_name'] = 'FMI'\n",
    "person['position_name'] = None\n",
    "person['role_code'] = ['custodian']\n",
    "person['delivery_point'] = None\n",
    "person['address_city'] = None\n",
    "person['administrative_area'] = None\n",
    "person['postal_code'] = None\n",
    "person['country'] = 'Finland'\n",
    "person['email'] = None\n",
    "\n",
    "contact.append(person)\n",
    "\n",
    "online_resource = {'linkage':'http://devcloudnet.fmi.fi/'}\n",
    "\n",
    "md_identification['abstract'] = 'Unknown'\n",
    "md_identification['title'] = 'Unknown'\n",
    "md_identification['identifier'] = None\n",
    "md_identification['date'] = datetime.strptime(file_md['measurement_date'],'%Y-%m-%d').isoformat() # reference date of the dataset\n",
    "md_identification['date_type'] = 'creation'\n",
    "md_identification['contact'] = contact\n",
    "md_identification['online_resource'] = online_resource\n",
    "\n",
    "print(md_identification)"
   ]
  },
  {
   "cell_type": "markdown",
   "metadata": {},
   "source": [
    "### md_constraints\n",
    "Metadata describing access constraints, data policy and licence"
   ]
  },
  {
   "cell_type": "code",
   "execution_count": 458,
   "metadata": {},
   "outputs": [
    {
     "name": "stdout",
     "output_type": "stream",
     "text": [
      "{'access_constraints': 'otherRestrictions', 'use_constraints': 'otherRestrictions', 'other_constraints': 'http://www.cloud-net.org/data/policy.html', 'data_licence': None, 'metadata_licence': None}\n"
     ]
    }
   ],
   "source": [
    "md_constraints = {}\n",
    "\n",
    "md_constraints['access_constraints'] = 'otherRestrictions'\n",
    "md_constraints['use_constraints'] = 'otherRestrictions'\n",
    "md_constraints['other_constraints'] = 'http://www.cloud-net.org/data/policy.html'\n",
    "md_constraints['data_licence'] = None\n",
    "md_constraints['metadata_licence'] = None\n",
    "\n",
    "print(md_constraints)"
   ]
  },
  {
   "cell_type": "markdown",
   "metadata": {},
   "source": [
    "### md_keywords\n",
    "Keywords for describing the data"
   ]
  },
  {
   "cell_type": "code",
   "execution_count": 459,
   "metadata": {},
   "outputs": [
    {
     "name": "stdout",
     "output_type": "stream",
     "text": [
      "{'keywords': ['remote', 'sensing']}\n"
     ]
    }
   ],
   "source": [
    "md_keywords = {}\n",
    "\n",
    "md_keywords['keywords'] =  ['remote','sensing']\n",
    "\n",
    "print(md_keywords)"
   ]
  },
  {
   "cell_type": "markdown",
   "metadata": {},
   "source": [
    "### md_data_identification\n",
    "Metadata related to the spatial and temporal information of the data generation"
   ]
  },
  {
   "cell_type": "code",
   "execution_count": 460,
   "metadata": {},
   "outputs": [
    {
     "name": "stdout",
     "output_type": "stream",
     "text": [
      "{'language': 'en', 'topic_category': 'climatologyMeteorologyAtmosphere', 'description': 'time series of point measurements at the surface', 'station_wmo_region': '6', 'country_name': 'Finland', 'station_name': 'hyytiala', 'station_identifier': 'SMR'}\n"
     ]
    }
   ],
   "source": [
    "md_data_identification = {}\n",
    "\n",
    "language = 'en'\n",
    "topic_category = 'climatologyMeteorologyAtmosphere'\n",
    "\n",
    "md_data_identification['language'] = language\n",
    "md_data_identification['topic_category'] = topic_category\n",
    "md_data_identification['description'] = 'time series of point measurements at the surface'\n",
    "md_data_identification['station_wmo_region'] = \"6\"\n",
    "md_data_identification['country_name'] = 'Finland' # needs to be include in the metadata\n",
    "md_data_identification['station_name'] = file_md['site_code']\n",
    "md_data_identification['station_identifier'] = 'SMR' # needs to be included in the metadata\n",
    "\n",
    "print(md_data_identification)"
   ]
  },
  {
   "cell_type": "markdown",
   "metadata": {},
   "source": [
    "### ex_geographic_bounding_box\n",
    "Metadata related to the spatial and temporal information of the data generation"
   ]
  },
  {
   "cell_type": "code",
   "execution_count": 461,
   "metadata": {},
   "outputs": [
    {
     "name": "stdout",
     "output_type": "stream",
     "text": [
      "{'site_id': '86', 'site_code': 'hyytiala', 'site_name': 'Hyytiälä', 'fields': {'latitude': '61.8441', 'longitude': '24.2875', 'altitude': '174'}}\n"
     ]
    }
   ],
   "source": [
    "url = 'http://devcloudnet.fmi.fi/api/sites/?site_code=hyytiala'\n",
    "\n",
    "response = requests.get(url)\n",
    "station_md = response.json()\n",
    "\n",
    "station_md = station_md[0]\n",
    "print(station_md)"
   ]
  },
  {
   "cell_type": "code",
   "execution_count": 462,
   "metadata": {
    "scrolled": true
   },
   "outputs": [
    {
     "name": "stdout",
     "output_type": "stream",
     "text": [
      "{'west_bound_longitude': 24.2875, 'east_bound_longitude': 24.2875, 'south_bound_latitude': 61.8441, 'north_bound_latitude': 61.8441}\n"
     ]
    }
   ],
   "source": [
    "ex_geographic_bounding_box = {}\n",
    "\n",
    "ex_geographic_bounding_box['west_bound_longitude'] = float(station_md['fields']['longitude'])\n",
    "ex_geographic_bounding_box['east_bound_longitude'] = float(station_md['fields']['longitude'])\n",
    "ex_geographic_bounding_box['south_bound_latitude'] = float(station_md['fields']['latitude'])\n",
    "ex_geographic_bounding_box['north_bound_latitude'] = float(station_md['fields']['latitude'])\n",
    "\n",
    "print(ex_geographic_bounding_box)"
   ]
  },
  {
   "cell_type": "markdown",
   "metadata": {},
   "source": [
    "### ex_temporal_extent\n",
    "Metadata describing the temporal information on the content of the dataset"
   ]
  },
  {
   "cell_type": "code",
   "execution_count": 463,
   "metadata": {},
   "outputs": [
    {
     "name": "stdout",
     "output_type": "stream",
     "text": [
      "{'time_period_begin': '2020-02-08T00:00:00', 'time_period_end': '2020-02-08T00:00:00'}\n"
     ]
    }
   ],
   "source": [
    "ex_temporal_extent = {}\n",
    "\n",
    "ex_temporal_extent['time_period_begin'] = datetime.strptime(file_md['measurement_date'],'%Y-%m-%d').isoformat()\n",
    "ex_temporal_extent['time_period_end'] = datetime.strptime(file_md['measurement_date'],'%Y-%m-%d').isoformat()\n",
    "\n",
    "print(ex_temporal_extent)"
   ]
  },
  {
   "cell_type": "markdown",
   "metadata": {},
   "source": [
    "### ex_vertical_extent\n",
    "Metadata describing the vertical information of instrument"
   ]
  },
  {
   "cell_type": "code",
   "execution_count": 472,
   "metadata": {},
   "outputs": [
    {
     "name": "stdout",
     "output_type": "stream",
     "text": [
      "{'minimum_value': 174.0, 'maximum_value': 174.0, 'unit_of_measure': 'm above sea level'}\n"
     ]
    }
   ],
   "source": [
    "ex_vertical_extent = {}\n",
    "\n",
    "unit_of_measure = 'm above sea level'\n",
    "\n",
    "ex_vertical_extent['minimum_value'] = float(station_md['fields']['altitude']) # minimum_value\n",
    "ex_vertical_extent['maximum_value'] = float(station_md['fields']['altitude']) # maximum_value\n",
    "ex_vertical_extent['unit_of_measure'] = unit_of_measure\n",
    "\n",
    "print(ex_vertical_extent)"
   ]
  },
  {
   "cell_type": "markdown",
   "metadata": {},
   "source": [
    "### md_content_information\n",
    "Metadata describing the list of parameters"
   ]
  },
  {
   "cell_type": "code",
   "execution_count": 473,
   "metadata": {},
   "outputs": [
    {
     "name": "stdout",
     "output_type": "stream",
     "text": [
      "{'attribute_description': ['drizzle'], 'content_type': 'physicalMeasurement'}\n"
     ]
    }
   ],
   "source": [
    "md_content_information = {}\n",
    "\n",
    "content_type = 'physicalMeasurement'\n",
    "\n",
    "md_content_information['attribute_description'] = [file_md['product']]\n",
    "md_content_information['content_type'] = content_type\n",
    "\n",
    "print(md_content_information)"
   ]
  },
  {
   "cell_type": "markdown",
   "metadata": {},
   "source": [
    "### md_distribution_information\n",
    "Metadata describing how to access the file, and if there are restrictions"
   ]
  },
  {
   "cell_type": "code",
   "execution_count": 474,
   "metadata": {},
   "outputs": [
    {
     "name": "stdout",
     "output_type": "stream",
     "text": [
      "dict_keys(['file_id', 'file_name', 'site_code', 'product', 'measurement_date', 'processing_time', 'db_timestamp', 'file_size (B)', 'md5_hash'])\n",
      "{'data_format': 'NETCDF4', 'version_data_format': 'NETCDF4', 'transfersize': None, 'dataset_url': 'http://devcloudnet.fmi.fi/cnet/hyytiala/products/drizzle/2020/20200208_hyytiala_drizzle.nc', 'protocol': 'http', 'description': None, 'function': 'download', 'restriction': {'set': False, 'description_url': None}}\n"
     ]
    }
   ],
   "source": [
    "md_distribution_information = {}\n",
    "\n",
    "restriction = {\"set\": False, \"description_url\": None}\n",
    "\n",
    "md_distribution_information['data_format'] = 'NETCDF4'\n",
    "md_distribution_information['version_data_format'] = 'NETCDF4'\n",
    "md_distribution_information['transfersize'] = None #file_md['file_size (B)']\n",
    "md_distribution_information['dataset_url'] = file_md['file_name']\n",
    "md_distribution_information['protocol'] = 'http'\n",
    "md_distribution_information['description'] = None\n",
    "md_distribution_information['function'] = 'download'\n",
    "md_distribution_information['restriction'] = restriction\n",
    "\n",
    "print(file_md.keys())\n",
    "print(md_distribution_information)"
   ]
  },
  {
   "cell_type": "markdown",
   "metadata": {},
   "source": [
    "### dq_data_quality_information\n",
    "Metadata on data quality and collection procedures"
   ]
  },
  {
   "cell_type": "code",
   "execution_count": 475,
   "metadata": {},
   "outputs": [
    {
     "name": "stdout",
     "output_type": "stream",
     "text": [
      "{'level': None, 'statement': None, 'description': None}\n"
     ]
    }
   ],
   "source": [
    "dq_data_quality_information = {}\n",
    "\n",
    "dq_data_quality_information['level'] = None\n",
    "dq_data_quality_information['statement'] = None\n",
    "dq_data_quality_information['description'] = None\n",
    "\n",
    "print(dq_data_quality_information)"
   ]
  },
  {
   "cell_type": "markdown",
   "metadata": {},
   "source": [
    "### md_actris_specific\n",
    "ACTRIS specific metadata, beyond what is required in the WIS profile"
   ]
  },
  {
   "cell_type": "code",
   "execution_count": 487,
   "metadata": {},
   "outputs": [
    {
     "name": "stdout",
     "output_type": "stream",
     "text": [
      "{'platform_type': 'surface_station', 'product_type': 'observation', 'matrix': 'cloud', 'sub_matrix': 'unknown', 'instrument_type': ['lidar'], 'program_affiliation': ['ACTRIS', 'ARM'], 'legacy_data': False, 'data_level': 2, 'data_sublevel': None, 'data_product': 'quality assured data'}\n"
     ]
    }
   ],
   "source": [
    "\n",
    "md_actris_specific = {}\n",
    "\n",
    "md_actris_specific['platform_type'] = 'surface_station'\n",
    "md_actris_specific['product_type'] = 'observation'\n",
    "md_actris_specific['matrix'] = 'cloud'\n",
    "md_actris_specific['sub_matrix'] = 'unknown'\n",
    "md_actris_specific['instrument_type'] = ['lidar']\n",
    "md_actris_specific['program_affiliation'] = ['ACTRIS','ARM']\n",
    "md_actris_specific['legacy_data'] = False\n",
    "md_actris_specific['data_level'] = 2\n",
    "md_actris_specific['data_sublevel'] = None\n",
    "md_actris_specific['data_product'] = 'quality assured data'\n",
    "\n",
    "print(md_actris_specific)"
   ]
  },
  {
   "cell_type": "code",
   "execution_count": 488,
   "metadata": {},
   "outputs": [
    {
     "name": "stdout",
     "output_type": "stream",
     "text": [
      "{'platform_type': 'surface_station', 'product_type': 'observation', 'matrix': 'cloud', 'sub_matrix': 'unknown', 'instrument_type': ['lidar'], 'program_affiliation': ['ACTRIS', 'ARM'], 'legacy_data': False, 'data_level': 2, 'data_sublevel': None, 'data_product': 'quality assured data'}\n"
     ]
    }
   ],
   "source": [
    "\n",
    "md_actris_specific = {}\n",
    "\n",
    "md_actris_specific['platform_type'] = 'surface_station'\n",
    "md_actris_specific['product_type'] = 'observation'\n",
    "md_actris_specific['matrix'] = 'cloud'\n",
    "md_actris_specific['sub_matrix'] = 'unknown'\n",
    "md_actris_specific['instrument_type'] = ['lidar']\n",
    "md_actris_specific['program_affiliation'] = ['ACTRIS','ARM']\n",
    "md_actris_specific['legacy_data'] = False\n",
    "md_actris_specific['data_level'] = 2\n",
    "md_actris_specific['data_sublevel'] = None\n",
    "md_actris_specific['data_product'] = 'quality assured data'\n",
    "\n",
    "print(md_actris_specific)"
   ]
  },
  {
   "cell_type": "code",
   "execution_count": 489,
   "metadata": {},
   "outputs": [
    {
     "name": "stdout",
     "output_type": "stream",
     "text": [
      "{\"md_metadata\": {\"file_identifier\": \"20200208_hyytiala_drizzle.nc\", \"language\": \"en\", \"hierarchy_level\": \"dataset\", \"datestamp\": \"2020-02-10T08:11:49\", \"contact\": [{\"first_name\": \"Simo\", \"last_name\": \"Tukiainen\", \"organisation_name\": \"FMI\", \"position_name\": null, \"role_code\": [\"custodian\"], \"delivery_point\": null, \"address_city\": null, \"administrative_area\": null, \"postal_code\": null, \"country\": \"Finland\", \"email\": null}], \"online_resource\": {\"linkage\": \"http://devcloudnet.fmi.fi/\"}}, \"md_identification\": {\"abstract\": \"Unknown\", \"title\": \"Unknown\", \"identifier\": null, \"date\": \"2020-02-08T00:00:00\", \"date_type\": \"creation\", \"contact\": [{\"first_name\": \"Simo\", \"last_name\": \"Tukiainen\", \"organisation_name\": \"FMI\", \"position_name\": null, \"role_code\": [\"custodian\"], \"delivery_point\": null, \"address_city\": null, \"administrative_area\": null, \"postal_code\": null, \"country\": \"Finland\", \"email\": null}], \"online_resource\": {\"linkage\": \"http://devcloudnet.fmi.fi/\"}}, \"md_constraints\": {\"access_constraints\": \"otherRestrictions\", \"use_constraints\": \"otherRestrictions\", \"other_constraints\": \"http://www.cloud-net.org/data/policy.html\", \"data_licence\": null, \"metadata_licence\": null}, \"md_keywords\": {\"keywords\": [\"remote\", \"sensing\"]}, \"md_data_identification\": {\"language\": \"en\", \"topic_category\": \"climatologyMeteorologyAtmosphere\", \"description\": \"time series of point measurements at the surface\", \"station_wmo_region\": \"6\", \"country_name\": \"Finland\", \"station_name\": \"hyytiala\", \"station_identifier\": \"SMR\"}, \"ex_geographic_bounding_box\": {\"west_bound_longitude\": 24.2875, \"east_bound_longitude\": 24.2875, \"south_bound_latitude\": 61.8441, \"north_bound_latitude\": 61.8441}, \"ex_temporal_extent\": {\"time_period_begin\": \"2020-02-08T00:00:00\", \"time_period_end\": \"2020-02-08T00:00:00\"}, \"ex_vertical_extent\": {\"minimum_value\": 174.0, \"maximum_value\": 174.0, \"unit_of_measure\": \"m above sea level\"}, \"md_content_information\": {\"attribute_description\": [\"drizzle\"], \"content_type\": \"physicalMeasurement\"}, \"md_distribution_information\": {\"data_format\": \"NETCDF4\", \"version_data_format\": \"NETCDF4\", \"transfersize\": null, \"dataset_url\": \"http://devcloudnet.fmi.fi/cnet/hyytiala/products/drizzle/2020/20200208_hyytiala_drizzle.nc\", \"protocol\": \"http\", \"description\": null, \"function\": \"download\", \"restriction\": {\"set\": false, \"description_url\": null}}, \"dq_data_quality_information\": {\"level\": null, \"statement\": null, \"description\": null}, \"md_actris_specific\": {\"platform_type\": \"surface_station\", \"product_type\": \"observation\", \"matrix\": \"cloud\", \"sub_matrix\": \"unknown\", \"instrument_type\": [\"lidar\"], \"program_affiliation\": [\"ACTRIS\", \"ARM\"], \"legacy_data\": false, \"data_level\": 2, \"data_sublevel\": null, \"data_product\": \"quality assured data\"}}\n"
     ]
    }
   ],
   "source": [
    "metadata = {}\n",
    "\n",
    "metadata['md_metadata'] = md_metadata\n",
    "metadata['md_identification'] = md_identification\n",
    "metadata['md_constraints'] = md_constraints\n",
    "metadata['md_keywords'] = md_keywords\n",
    "metadata['md_data_identification'] = md_data_identification\n",
    "metadata['ex_geographic_bounding_box'] = ex_geographic_bounding_box\n",
    "metadata['ex_temporal_extent'] = ex_temporal_extent\n",
    "metadata['ex_vertical_extent'] = ex_vertical_extent\n",
    "metadata['md_content_information'] = md_content_information\n",
    "metadata['md_distribution_information'] = md_distribution_information\n",
    "metadata['dq_data_quality_information'] = dq_data_quality_information\n",
    "metadata['md_actris_specific'] = md_actris_specific\n",
    "\n",
    "# Convert python dictionary to json\n",
    "md_json = json.dumps(metadata)\n",
    "\n",
    "print(md_json)"
   ]
  },
  {
   "cell_type": "markdown",
   "metadata": {},
   "source": [
    "# Import metadata to the API"
   ]
  },
  {
   "cell_type": "code",
   "execution_count": 490,
   "metadata": {},
   "outputs": [
    {
     "name": "stdout",
     "output_type": "stream",
     "text": [
      "{'Server': 'nginx/1.10.3 (Ubuntu)', 'Date': 'Mon, 10 Feb 2020 12:34:37 GMT', 'Content-Length': '0', 'Connection': 'keep-alive', 'Location': 'http://dev-actris-md.nilu.no/Metadata/268682', 'Strict-Transport-Security': 'max-age=31536; includeSubDomains'}\n",
      "\n",
      "201\n"
     ]
    }
   ],
   "source": [
    "url = \"https://dev-actris-md.nilu.no/metadata/add\"\n",
    "\n",
    "headers = {'Content-type': 'application/json', 'Accept': 'application/json'}\n",
    "r = requests.post(url, json=metadata, headers=headers)\n",
    "\n",
    "print(r.headers)\n",
    "print(r.text)\n",
    "print(r.status_code)"
   ]
  },
  {
   "cell_type": "code",
   "execution_count": null,
   "metadata": {},
   "outputs": [],
   "source": []
  },
  {
   "cell_type": "code",
   "execution_count": null,
   "metadata": {},
   "outputs": [],
   "source": []
  }
 ],
 "metadata": {
  "kernelspec": {
   "display_name": "Python 3",
   "language": "python",
   "name": "python3"
  },
  "language_info": {
   "codemirror_mode": {
    "name": "ipython",
    "version": 3
   },
   "file_extension": ".py",
   "mimetype": "text/x-python",
   "name": "python",
   "nbconvert_exporter": "python",
   "pygments_lexer": "ipython3",
   "version": "3.7.4"
  }
 },
 "nbformat": 4,
 "nbformat_minor": 2
}
