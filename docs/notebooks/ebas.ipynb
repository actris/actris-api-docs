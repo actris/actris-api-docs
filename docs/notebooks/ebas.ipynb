{
 "cells": [
  {
   "cell_type": "code",
   "execution_count": 1,
   "metadata": {},
   "outputs": [
    {
     "name": "stdout",
     "output_type": "stream",
     "text": [
      "1.5.3\n"
     ]
    }
   ],
   "source": [
    "import requests\n",
    "import pandas as pd\n",
    "import json\n",
    "import datetime\n",
    "from datetime import datetime\n",
    "import netCDF4\n",
    "\n",
    "print(netCDF4.__version__)"
   ]
  },
  {
   "cell_type": "markdown",
   "metadata": {},
   "source": [
    "### Use Thredds and opendap for fetching metadata"
   ]
  },
  {
   "cell_type": "code",
   "execution_count": 2,
   "metadata": {},
   "outputs": [],
   "source": [
    "opendap_url = 'https://thredds.nilu.no/thredds/dodsC/ebas/NO0042G.20180101000000.20190508191242.dmps.particle_number_size_distribution.pm10.1y.1h.NO01L_NILU_DMPSmodel2_ZEP.NO01L_dmps_DMPS_ZEP01.lev2.nc'\n",
    "dataset = netCDF4.Dataset(opendap_url)"
   ]
  },
  {
   "cell_type": "code",
   "execution_count": 3,
   "metadata": {},
   "outputs": [],
   "source": [
    "# Fetch ebas specific metadata\n",
    "ebas_metadata = json.loads(dataset.getncattr('comment'))"
   ]
  },
  {
   "cell_type": "markdown",
   "metadata": {},
   "source": [
    "### get country name\n",
    "Function to fetch country name using gaw id and the gawsis API.\n",
    "Example on using external apis to enrich the data"
   ]
  },
  {
   "cell_type": "code",
   "execution_count": 4,
   "metadata": {},
   "outputs": [],
   "source": [
    "\n",
    "def get_country_name(gawid):\n",
    "\n",
    "    station_identifier = gawid\n",
    "    wigos_api = 'https://oscardepl.wmo.int/surface/rest/api/search/station?wigosId=0-20008-0-{0}'.format(station_identifier) \n",
    "    response = requests.get(wigos_api)\n",
    "    wigos_md = response.json()  \n",
    "    wigos_md = wigos_md[0]\n",
    "    country_name = wigos_md['territory']\n",
    "    \n",
    "    return country_name"
   ]
  },
  {
   "cell_type": "markdown",
   "metadata": {},
   "source": [
    "### md_metadata\n",
    "Metadata related to the metadata"
   ]
  },
  {
   "cell_type": "code",
   "execution_count": 5,
   "metadata": {},
   "outputs": [
    {
     "name": "stdout",
     "output_type": "stream",
     "text": [
      "{'file_identifier': 'NO0042G.20180101000000.20190508191242.dmps.particle_number_size_distribution.pm10.1y.1h.NO01L_NILU_DMPSmodel2_ZEP.NO01L_dmps_DMPS_ZEP01.lev2.nc', 'language': 'en', 'hierarchy_level': 'dataset', 'datestamp': '2019-05-08T19:12:42', 'contact': [{'first_name': 'Markus', 'last_name': 'Fiebig', 'organisation_name': 'Norwegian Institute for Air Research (NILU)', 'position_name': 'Senior Scientist', 'role_code': ['custodian'], 'delivery_point': 'Insituttveien 18', 'address_city': 'Kjeller', 'administrative_area': 'Viken', 'postal_code': '2007', 'country': 'Norway', 'email': 'ebas@nilu.no'}], 'online_resource': {'linkage': 'https://www.nilu.no/'}}\n"
     ]
    }
   ],
   "source": [
    "md_metadata = {}\n",
    "\n",
    "file_identifier = dataset.id\n",
    "language = 'en'\n",
    "hierarchy_level = 'dataset' \n",
    "datestamp = datetime.strptime(dataset.getncattr('date_metadata_modified'),'%Y-%m-%dT%H:%M:%S UTC').isoformat()\n",
    "\n",
    "contact = []\n",
    "person = {}\n",
    "\n",
    "person['first_name'] = 'Markus'\n",
    "person['last_name'] = 'Fiebig'\n",
    "person['organisation_name'] = 'Norwegian Institute for Air Research (NILU)'\n",
    "person['position_name'] = 'Senior Scientist'\n",
    "person['role_code'] = ['custodian']\n",
    "person['delivery_point'] = 'Insituttveien 18'\n",
    "person['address_city'] = 'Kjeller'\n",
    "person['administrative_area'] = 'Viken'\n",
    "person['postal_code'] = '2007'\n",
    "person['country'] = 'Norway'\n",
    "person['email'] = 'ebas@nilu.no'\n",
    "\n",
    "contact.append(person)\n",
    "\n",
    "online_resource = {'linkage':'https://www.nilu.no/'}\n",
    "\n",
    "md_metadata['file_identifier'] = file_identifier\n",
    "md_metadata['language'] = language\n",
    "md_metadata['hierarchy_level'] = hierarchy_level\n",
    "md_metadata['datestamp'] = datestamp\n",
    "md_metadata['contact'] = contact\n",
    "md_metadata['online_resource'] = online_resource\n",
    "\n",
    "print(md_metadata)"
   ]
  },
  {
   "cell_type": "markdown",
   "metadata": {},
   "source": [
    "### md_identification\n",
    "Metadata related to the dataset"
   ]
  },
  {
   "cell_type": "code",
   "execution_count": 6,
   "metadata": {},
   "outputs": [
    {
     "name": "stdout",
     "output_type": "stream",
     "text": [
      "{'abstract': 'Ground based in situ observations of particle_number_size_distribution at Zeppelin mountain (Ny-Ålesund) (NO0042G) using dmps. These measurements are gathered as a part of the following projects ACTRIS, EMEP, NILU, GAW-WDCA and they are stored in the EBAS database (http://ebas.nilu.no/). Parameters measured are: particle_number_size_distribution in pm10', 'title': 'Ground based in situ observations of particle_number_size_distribution at Zeppelin mountain (Ny-Ålesund) (NO0042G) using dmps', 'identifier': 'https://doi.org/10.21336/some.doi.1', 'date': '2019-05-08T19:12:42', 'date_type': 'creation', 'contact': [{'first_name': 'Markus', 'last_name': 'Fiebig', 'organisation_name': '\"Norwegian Institute for Air Research', 'position_name': None, 'role_code': ['principalInvestigator'], 'delivery_point': None, 'address_city': None, 'administrative_area': None, 'postal_code': None, 'country': 'Norway', 'email': 'Markus.Fiebig@nilu.no'}, {'first_name': 'Chris', 'last_name': 'Lunder', 'organisation_name': ' Atmosphere and Climate Department', 'position_name': None, 'role_code': ['principalInvestigator'], 'delivery_point': None, 'address_city': None, 'administrative_area': None, 'postal_code': None, 'country': 'Norway', 'email': ' crl@nilu.no'}], 'online_resource': {'linkage': 'http://ebas.nilu.no/'}}\n"
     ]
    }
   ],
   "source": [
    "md_identification = {}\n",
    "\n",
    "abstract = dataset.getncattr('summary')\n",
    "title = dataset.getncattr('title')\n",
    "identifier = 'https://doi.org/10.21336/some.doi.1' # This should be some sort of PID, like DOI or similar\n",
    "date = datetime.strptime(dataset.getncattr('date_created'),'%Y-%m-%dT%H:%M:%S UTC').isoformat()\n",
    "date_type = 'creation'\n",
    "\n",
    "# creator = originator\n",
    "#contact\n",
    "\n",
    "contacts = []\n",
    "\n",
    "i = 0\n",
    "\n",
    "for person in dataset.getncattr('creator_name').split(','):\n",
    "    \n",
    "    _dict = {}\n",
    "    \n",
    "    creator_name = dataset.getncattr('creator_name').split(',')[i]\n",
    "    creator_name = creator_name.lstrip()\n",
    "    creator_name = creator_name.split(' ')\n",
    "    \n",
    "    creator_email = dataset.getncattr('creator_email').split(',')[i]\n",
    "    \n",
    "    if not creator_email:\n",
    "        creator_email = None\n",
    "    else:\n",
    "        pass\n",
    "    \n",
    "    first_name = creator_name[0]\n",
    "    last_name = creator_name[1]\n",
    "    organisation_name = dataset.getncattr('creator_institution').split(',')[i]\n",
    "        \n",
    "    if not organisation_name:\n",
    "        organisation_name = 'Organization name not available'\n",
    "    else:\n",
    "        pass\n",
    "        \n",
    "    position_name = None\n",
    "    role_code = 'creator'\n",
    "    delivery_point = None\n",
    "    address_city = None\n",
    "    administrative_area = None\n",
    "    postal_code = None\n",
    "    country = 'Norway' #get_country_name(ebas_metadata['Station GAW-ID'])\n",
    "    \n",
    "    \n",
    "    _dict['first_name'] = first_name\n",
    "    _dict['last_name'] = last_name\n",
    "    _dict['organisation_name'] = organisation_name     \n",
    "    _dict['position_name'] = position_name\n",
    "    _dict['role_code'] = ['principalInvestigator']\n",
    "    _dict['delivery_point'] = delivery_point\n",
    "    _dict['address_city'] = address_city\n",
    "    _dict['administrative_area'] = administrative_area\n",
    "    _dict['postal_code'] = postal_code\n",
    "    _dict['country'] = country\n",
    "    _dict['email'] = creator_email\n",
    "    \n",
    "    contacts.append(_dict)\n",
    "    \n",
    "    i+=1\n",
    "\n",
    "online_resource = {'linkage':'http://ebas.nilu.no/'}\n",
    "\n",
    "md_identification['abstract'] = abstract\n",
    "md_identification['title'] = title\n",
    "md_identification['identifier'] = identifier\n",
    "md_identification['date'] = date\n",
    "md_identification['date_type'] = date_type\n",
    "md_identification['contact'] = contacts\n",
    "md_identification['online_resource'] = online_resource\n",
    "\n",
    "print(md_identification)"
   ]
  },
  {
   "cell_type": "markdown",
   "metadata": {},
   "source": [
    "### md_constraints\n",
    "Metadata describing access constraints, data policy and licence"
   ]
  },
  {
   "cell_type": "code",
   "execution_count": 7,
   "metadata": {},
   "outputs": [
    {
     "name": "stdout",
     "output_type": "stream",
     "text": [
      "{'access_constraints': 'otherRestrictions', 'use_constraints': 'otherRestrictions', 'other_constraints': 'ACTRIS: http://actris.nilu.no/Content/Documents/DataPolicy.pdf, EMEP: Public open access. We encourage contacting data originators if substatial use of individual time series is planned (fair use data policy)., NILU: Public open access. We encourage contacting data originators if substatial use of individual time series is planned (fair use data policy)., GAW-WDCA: ', 'data_licence': None, 'metadata_licence': None}\n"
     ]
    }
   ],
   "source": [
    "md_constraints = {}\n",
    "\n",
    "access_constraints = 'otherRestrictions'\n",
    "use_constraints = 'otherRestrictions'\n",
    "other_constraints = dataset.getncattr('license')\n",
    "data_licence = None\n",
    "metadata_licence = None\n",
    "\n",
    "md_constraints['access_constraints'] = access_constraints\n",
    "md_constraints['use_constraints'] = use_constraints\n",
    "md_constraints['other_constraints'] = other_constraints\n",
    "md_constraints['data_licence'] = data_licence\n",
    "md_constraints['metadata_licence'] = metadata_licence\n",
    "\n",
    "print(md_constraints)"
   ]
  },
  {
   "cell_type": "markdown",
   "metadata": {},
   "source": [
    "### md_keywords\n",
    "Keywords for describing the data"
   ]
  },
  {
   "cell_type": "code",
   "execution_count": 8,
   "metadata": {},
   "outputs": [
    {
     "name": "stdout",
     "output_type": "stream",
     "text": [
      "{'keywords': ['NO0042G,', 'Zeppelin', 'mountain', '(Ny-Ålesund),', 'pm10,', 'particle_number_size_distribution,', 'GAW-WDCA,', 'ACTRIS,', 'EMEP,', 'NILU']}\n"
     ]
    }
   ],
   "source": [
    "md_keywords = {}\n",
    "\n",
    "keywords = dataset.getncattr('keywords').split()\n",
    "keywords = [k[:60] for k in keywords]\n",
    "\n",
    "md_keywords['keywords'] =  keywords\n",
    "\n",
    "print(md_keywords)"
   ]
  },
  {
   "cell_type": "markdown",
   "metadata": {},
   "source": [
    "### md_data_identification\n",
    "Metadata related to the spatial and temporal information of the data generation"
   ]
  },
  {
   "cell_type": "code",
   "execution_count": 9,
   "metadata": {},
   "outputs": [],
   "source": [
    "try:\n",
    "\n",
    "    # get station metadata\n",
    "\n",
    "    station_identifier = ebas_metadata['Station GAW-ID']\n",
    "\n",
    "    wigos_api = 'https://oscardepl.wmo.int/surface/rest/api/search/station?wigosId=0-20008-0-{0}'.format(station_identifier) \n",
    "\n",
    "    # here we use the wigos API to get country name\n",
    "    response = requests.get(wigos_api)\n",
    "    wigos_md = response.json()  \n",
    "    wigos_md = wigos_md[0]\n",
    "    \n",
    "except:\n",
    "    pass"
   ]
  },
  {
   "cell_type": "code",
   "execution_count": 10,
   "metadata": {},
   "outputs": [
    {
     "name": "stdout",
     "output_type": "stream",
     "text": [
      "{'language': 'en', 'topic_category': 'climatologyMeteorologyAtmosphere', 'description': 'time series of point measurements at surface', 'station_wmo_region': '6', 'country_name': 'Norway', 'station_name': 'Zeppelin Mountain (Ny Ålesund)', 'station_identifier': 'ZEP'}\n"
     ]
    }
   ],
   "source": [
    "md_data_identification = {}\n",
    "\n",
    "language = 'en'\n",
    "topic_category = 'climatologyMeteorologyAtmosphere'\n",
    "description = 'time series of point measurements at surface'\n",
    "station_wmo_region = ebas_metadata['Station WMO region']\n",
    "country_name = 'Norway' #wigos_md['territory'] # currently now direct mapping of country, this could be a part of station list in the future\n",
    "\n",
    "try:\n",
    "    station_name = ebas_metadata['Station GAW-Name']\n",
    "except:\n",
    "    station_name = wigos_md['name']\n",
    "    \n",
    "station_identifier = ebas_metadata['Station GAW-ID']\n",
    "\n",
    "md_data_identification['language'] = language\n",
    "md_data_identification['topic_category'] = topic_category\n",
    "md_data_identification['description'] = description\n",
    "md_data_identification['station_wmo_region'] = station_wmo_region\n",
    "md_data_identification['country_name'] = country_name\n",
    "md_data_identification['station_name'] = station_name\n",
    "md_data_identification['station_identifier'] = station_identifier\n",
    "\n",
    "print(md_data_identification)"
   ]
  },
  {
   "cell_type": "markdown",
   "metadata": {},
   "source": [
    "### ex_geographic_bounding_box\n",
    "Metadata related to the spatial and temporal information of the data generation"
   ]
  },
  {
   "cell_type": "code",
   "execution_count": 11,
   "metadata": {},
   "outputs": [
    {
     "name": "stdout",
     "output_type": "stream",
     "text": [
      "{'west_bound_longitude': 11.88934, 'east_bound_longitude': 11.88934, 'south_bound_latitude': 78.90669, 'north_bound_latitude': 78.90669}\n"
     ]
    }
   ],
   "source": [
    "ex_geographic_bounding_box = {}\n",
    "\n",
    "west_bound_longitude = dataset.getncattr('geospatial_lon_min')\n",
    "east_bound_longitude = dataset.getncattr('geospatial_lon_max')\n",
    "south_bound_latitude = dataset.getncattr('geospatial_lat_min')\n",
    "north_bound_latitude = dataset.getncattr('geospatial_lat_max')\n",
    "\n",
    "ex_geographic_bounding_box['west_bound_longitude'] = west_bound_longitude\n",
    "ex_geographic_bounding_box['east_bound_longitude'] = east_bound_longitude\n",
    "ex_geographic_bounding_box['south_bound_latitude'] = south_bound_latitude\n",
    "ex_geographic_bounding_box['north_bound_latitude'] = north_bound_latitude\n",
    "\n",
    "print(ex_geographic_bounding_box)"
   ]
  },
  {
   "cell_type": "markdown",
   "metadata": {},
   "source": [
    "### ex_temporal_extent\n",
    "Metadata describing the temporal information on the content of the dataset"
   ]
  },
  {
   "cell_type": "code",
   "execution_count": 12,
   "metadata": {},
   "outputs": [
    {
     "name": "stdout",
     "output_type": "stream",
     "text": [
      "{'time_period_begin': '2018-01-01T00:00:00', 'time_period_end': '2019-01-01T00:00:00'}\n"
     ]
    }
   ],
   "source": [
    "ex_temporal_extent = {}\n",
    "\n",
    "time_period_begin = datetime.strptime(dataset.getncattr('time_coverage_start'),'%Y-%m-%dT%H:%M:%S UTC').isoformat()\n",
    "time_period_end = datetime.strptime(dataset.getncattr('time_coverage_end'),'%Y-%m-%dT%H:%M:%S UTC').isoformat()\n",
    "\n",
    "ex_temporal_extent['time_period_begin'] = time_period_begin\n",
    "ex_temporal_extent['time_period_end'] = time_period_end\n",
    "\n",
    "print(ex_temporal_extent)"
   ]
  },
  {
   "cell_type": "markdown",
   "metadata": {},
   "source": [
    "### ex_vertical_extent\n",
    "Metadata describing the vertical information of instrument"
   ]
  },
  {
   "cell_type": "code",
   "execution_count": 13,
   "metadata": {},
   "outputs": [
    {
     "name": "stdout",
     "output_type": "stream",
     "text": [
      "{'minimum_value': None, 'maximum_value': None, 'unit_of_measure': 'm above sea level'}\n"
     ]
    }
   ],
   "source": [
    "ex_vertical_extent = {}\n",
    "\n",
    "minimum_value = dataset.getncattr('geospatial_vertical_min')\n",
    "maximum_value = dataset.getncattr('geospatial_vertical_max')\n",
    "unit_of_measure = 'm above sea level'\n",
    "#consider including geospatial_vertical_positive. E.g. geospatial_vertical_positive = \"up\" ;\n",
    "\n",
    "ex_vertical_extent['minimum_value'] = None #minimum_value\n",
    "ex_vertical_extent['maximum_value'] = None #maximum_value\n",
    "ex_vertical_extent['unit_of_measure'] = unit_of_measure\n",
    "\n",
    "print(ex_vertical_extent)"
   ]
  },
  {
   "cell_type": "markdown",
   "metadata": {},
   "source": [
    "### md_content_information\n",
    "Metadata describing the list of parameters"
   ]
  },
  {
   "cell_type": "code",
   "execution_count": 14,
   "metadata": {},
   "outputs": [
    {
     "name": "stdout",
     "output_type": "stream",
     "text": [
      "{'attribute_description': ['particle_number_size_distribution'], 'content_type': 'physicalMeasurement'}\n"
     ]
    }
   ],
   "source": [
    "md_content_information = {}\n",
    "\n",
    "try:\n",
    "    attribute_description = ebas_metadata['Component']\n",
    "except:\n",
    "    attribute_description = 'Not available'\n",
    "    \n",
    "content_type = 'physicalMeasurement'\n",
    "\n",
    "md_content_information['attribute_description'] = [attribute_description]\n",
    "md_content_information['content_type'] = content_type\n",
    "\n",
    "print(md_content_information)"
   ]
  },
  {
   "cell_type": "markdown",
   "metadata": {},
   "source": [
    "### md_distribution_information\n",
    "Metadata describing how to access the file, and if there are restrictions"
   ]
  },
  {
   "cell_type": "code",
   "execution_count": 15,
   "metadata": {},
   "outputs": [
    {
     "name": "stdout",
     "output_type": "stream",
     "text": [
      "{'data_format': 'NETCDF3_CLASSIC', 'version_data_format': 'NETCDF3_CLASSIC', 'transfersize': None, 'dataset_url': 'https://thredds.nilu.no/thredds/dodsC/ebas/NO0042G.20180101000000.20190508191242.dmps.particle_number_size_distribution.pm10.1y.1h.NO01L_NILU_DMPSmodel2_ZEP.NO01L_dmps_DMPS_ZEP01.lev2.nc', 'protocol': 'http', 'description': 'Direct download of data file', 'function': 'download', 'restriction': {'set': False, 'description_url': 'https://ebas-submit.nilu.no/Data-Policy'}}\n"
     ]
    }
   ],
   "source": [
    "md_distribution_information = {}\n",
    "\n",
    "data_format = dataset.file_format\n",
    "version_data_format = dataset.file_format\n",
    "transfersize = None\n",
    "dataset_url = dataset.filepath()\n",
    "protocol = 'http'\n",
    "description = 'Direct download of data file'\n",
    "function = 'download'\n",
    "restriction = {\"set\": False, \"description_url\": 'https://ebas-submit.nilu.no/Data-Policy'}\n",
    "\n",
    "md_distribution_information['data_format'] = data_format\n",
    "md_distribution_information['version_data_format'] = version_data_format\n",
    "md_distribution_information['transfersize'] = transfersize\n",
    "md_distribution_information['dataset_url'] = dataset_url\n",
    "md_distribution_information['protocol'] = protocol\n",
    "md_distribution_information['description'] = description\n",
    "md_distribution_information['function'] = function\n",
    "md_distribution_information['restriction'] = restriction\n",
    "\n",
    "print(md_distribution_information)"
   ]
  },
  {
   "cell_type": "markdown",
   "metadata": {},
   "source": [
    "### dq_data_quality_information\n",
    "Metadata on data quality and collection procedures"
   ]
  },
  {
   "cell_type": "code",
   "execution_count": 16,
   "metadata": {},
   "outputs": [
    {
     "name": "stdout",
     "output_type": "stream",
     "text": [
      "{'level': 'dataset', 'statement': 'Data collected according to instrument specific standard operating procedures, checked on import into data base.', 'description': 'processing_level_test'}\n"
     ]
    }
   ],
   "source": [
    "dq_data_quality_information = {}\n",
    "\n",
    "level = 'dataset'\n",
    "statement = 'Data collected according to instrument specific standard operating procedures, checked on import into data base.'\n",
    "description = dataset.getncattr('processing_level')\n",
    "\n",
    "dq_data_quality_information['level'] = level\n",
    "dq_data_quality_information['statement'] = statement\n",
    "dq_data_quality_information['description'] = description\n",
    "\n",
    "print(dq_data_quality_information)"
   ]
  },
  {
   "cell_type": "markdown",
   "metadata": {},
   "source": [
    "### md_actris_specific\n",
    "ACTRIS specific metadata, beyond what is required in the WIS profile"
   ]
  },
  {
   "cell_type": "code",
   "execution_count": 17,
   "metadata": {},
   "outputs": [
    {
     "name": "stdout",
     "output_type": "stream",
     "text": [
      "{'platform_type': 'surface_station', 'product_type': 'observation', 'matrix': 'particle', 'sub_matrix': 'pm10', 'instrument_type': ['dmps'], 'program_affiliation': ['ACTRIS'], 'legacy_data': False, 'data_level': 2, 'data_sublevel': None, 'data_product': 'quality assured data'}\n"
     ]
    }
   ],
   "source": [
    "md_actris_specific = {}\n",
    "\n",
    "projects = dataset.getncattr('project')\n",
    "\n",
    "\n",
    "if 'ACTRIS' in projects:\n",
    "    legacy = False\n",
    "else:\n",
    "    legacy = True\n",
    "\n",
    "projects = projects.split(',')\n",
    "\n",
    "\n",
    "platform_type = 'surface_station'\n",
    "product_type = 'observation'\n",
    "matrix = 'particle'\n",
    "sub_matrix = ebas_metadata['Matrix']\n",
    "instrument_type = ebas_metadata['Instrument type']\n",
    "program_affiliation = projects\n",
    "legacy_data = legacy\n",
    "data_level = ebas_metadata['Data level']\n",
    "data_sublevel = None\n",
    "data_product = 'quality assured data'\n",
    "\n",
    "md_actris_specific['platform_type'] = platform_type\n",
    "md_actris_specific['product_type'] = product_type\n",
    "md_actris_specific['matrix'] = matrix\n",
    "md_actris_specific['sub_matrix'] = sub_matrix\n",
    "md_actris_specific['instrument_type'] = [instrument_type]\n",
    "md_actris_specific['program_affiliation'] = ['ACTRIS']\n",
    "md_actris_specific['legacy_data'] = legacy_data\n",
    "md_actris_specific['data_level'] = int(data_level)\n",
    "md_actris_specific['data_sublevel'] = data_sublevel\n",
    "md_actris_specific['data_product'] = data_product\n",
    "\n",
    "print(md_actris_specific)"
   ]
  },
  {
   "cell_type": "markdown",
   "metadata": {},
   "source": [
    "### create json\n",
    "Merge all the metadata into a dictionary"
   ]
  },
  {
   "cell_type": "code",
   "execution_count": 18,
   "metadata": {},
   "outputs": [
    {
     "name": "stdout",
     "output_type": "stream",
     "text": [
      "{\"md_metadata\": {\"file_identifier\": \"NO0042G.20180101000000.20190508191242.dmps.particle_number_size_distribution.pm10.1y.1h.NO01L_NILU_DMPSmodel2_ZEP.NO01L_dmps_DMPS_ZEP01.lev2.nc\", \"language\": \"en\", \"hierarchy_level\": \"dataset\", \"datestamp\": \"2019-05-08T19:12:42\", \"contact\": [{\"first_name\": \"Markus\", \"last_name\": \"Fiebig\", \"organisation_name\": \"Norwegian Institute for Air Research (NILU)\", \"position_name\": \"Senior Scientist\", \"role_code\": [\"custodian\"], \"delivery_point\": \"Insituttveien 18\", \"address_city\": \"Kjeller\", \"administrative_area\": \"Viken\", \"postal_code\": \"2007\", \"country\": \"Norway\", \"email\": \"ebas@nilu.no\"}], \"online_resource\": {\"linkage\": \"https://www.nilu.no/\"}}, \"md_identification\": {\"abstract\": \"Ground based in situ observations of particle_number_size_distribution at Zeppelin mountain (Ny-\\u00c5lesund) (NO0042G) using dmps. These measurements are gathered as a part of the following projects ACTRIS, EMEP, NILU, GAW-WDCA and they are stored in the EBAS database (http://ebas.nilu.no/). Parameters measured are: particle_number_size_distribution in pm10\", \"title\": \"Ground based in situ observations of particle_number_size_distribution at Zeppelin mountain (Ny-\\u00c5lesund) (NO0042G) using dmps\", \"identifier\": \"https://doi.org/10.21336/some.doi.1\", \"date\": \"2019-05-08T19:12:42\", \"date_type\": \"creation\", \"contact\": [{\"first_name\": \"Markus\", \"last_name\": \"Fiebig\", \"organisation_name\": \"\\\"Norwegian Institute for Air Research\", \"position_name\": null, \"role_code\": [\"principalInvestigator\"], \"delivery_point\": null, \"address_city\": null, \"administrative_area\": null, \"postal_code\": null, \"country\": \"Norway\", \"email\": \"Markus.Fiebig@nilu.no\"}, {\"first_name\": \"Chris\", \"last_name\": \"Lunder\", \"organisation_name\": \" Atmosphere and Climate Department\", \"position_name\": null, \"role_code\": [\"principalInvestigator\"], \"delivery_point\": null, \"address_city\": null, \"administrative_area\": null, \"postal_code\": null, \"country\": \"Norway\", \"email\": \" crl@nilu.no\"}], \"online_resource\": {\"linkage\": \"http://ebas.nilu.no/\"}}, \"md_constraints\": {\"access_constraints\": \"otherRestrictions\", \"use_constraints\": \"otherRestrictions\", \"other_constraints\": \"ACTRIS: http://actris.nilu.no/Content/Documents/DataPolicy.pdf, EMEP: Public open access. We encourage contacting data originators if substatial use of individual time series is planned (fair use data policy)., NILU: Public open access. We encourage contacting data originators if substatial use of individual time series is planned (fair use data policy)., GAW-WDCA: \", \"data_licence\": null, \"metadata_licence\": null}, \"md_keywords\": {\"keywords\": [\"NO0042G,\", \"Zeppelin\", \"mountain\", \"(Ny-\\u00c5lesund),\", \"pm10,\", \"particle_number_size_distribution,\", \"GAW-WDCA,\", \"ACTRIS,\", \"EMEP,\", \"NILU\"]}, \"md_data_identification\": {\"language\": \"en\", \"topic_category\": \"climatologyMeteorologyAtmosphere\", \"description\": \"time series of point measurements at surface\", \"station_wmo_region\": \"6\", \"country_name\": \"Norway\", \"station_name\": \"Zeppelin Mountain (Ny \\u00c5lesund)\", \"station_identifier\": \"ZEP\"}, \"ex_geographic_bounding_box\": {\"west_bound_longitude\": 11.88934, \"east_bound_longitude\": 11.88934, \"south_bound_latitude\": 78.90669, \"north_bound_latitude\": 78.90669}, \"ex_temporal_extent\": {\"time_period_begin\": \"2018-01-01T00:00:00\", \"time_period_end\": \"2019-01-01T00:00:00\"}, \"ex_vertical_extent\": {\"minimum_value\": null, \"maximum_value\": null, \"unit_of_measure\": \"m above sea level\"}, \"md_content_information\": {\"attribute_description\": [\"particle_number_size_distribution\"], \"content_type\": \"physicalMeasurement\"}, \"md_distribution_information\": {\"data_format\": \"NETCDF3_CLASSIC\", \"version_data_format\": \"NETCDF3_CLASSIC\", \"transfersize\": null, \"dataset_url\": \"https://thredds.nilu.no/thredds/dodsC/ebas/NO0042G.20180101000000.20190508191242.dmps.particle_number_size_distribution.pm10.1y.1h.NO01L_NILU_DMPSmodel2_ZEP.NO01L_dmps_DMPS_ZEP01.lev2.nc\", \"protocol\": \"http\", \"description\": \"Direct download of data file\", \"function\": \"download\", \"restriction\": {\"set\": false, \"description_url\": \"https://ebas-submit.nilu.no/Data-Policy\"}}, \"dq_data_quality_information\": {\"level\": \"dataset\", \"statement\": \"Data collected according to instrument specific standard operating procedures, checked on import into data base.\", \"description\": \"processing_level_test\"}, \"md_actris_specific\": {\"platform_type\": \"surface_station\", \"product_type\": \"observation\", \"matrix\": \"particle\", \"sub_matrix\": \"pm10\", \"instrument_type\": [\"dmps\"], \"program_affiliation\": [\"ACTRIS\"], \"legacy_data\": false, \"data_level\": 2, \"data_sublevel\": null, \"data_product\": \"quality assured data\"}}\n"
     ]
    }
   ],
   "source": [
    "metadata = {}\n",
    "\n",
    "metadata['md_metadata'] = md_metadata\n",
    "metadata['md_identification'] = md_identification\n",
    "metadata['md_constraints'] = md_constraints\n",
    "metadata['md_keywords'] = md_keywords\n",
    "metadata['md_data_identification'] = md_data_identification\n",
    "metadata['ex_geographic_bounding_box'] = ex_geographic_bounding_box\n",
    "metadata['ex_temporal_extent'] = ex_temporal_extent\n",
    "metadata['ex_vertical_extent'] = ex_vertical_extent\n",
    "metadata['md_content_information'] = md_content_information\n",
    "metadata['md_distribution_information'] = md_distribution_information\n",
    "metadata['dq_data_quality_information'] = dq_data_quality_information\n",
    "metadata['md_actris_specific'] = md_actris_specific\n",
    "\n",
    "# Convert python dictionary to json\n",
    "md_json = json.dumps(metadata)\n",
    "\n",
    "print(md_json)"
   ]
  },
  {
   "cell_type": "markdown",
   "metadata": {},
   "source": [
    "### Add metadata to API\n",
    "Post metadata to API"
   ]
  },
  {
   "cell_type": "code",
   "execution_count": 19,
   "metadata": {},
   "outputs": [
    {
     "name": "stdout",
     "output_type": "stream",
     "text": [
      "{'Server': 'nginx/1.10.3 (Ubuntu)', 'Date': 'Fri, 31 Jan 2020 08:12:24 GMT', 'Content-Length': '0', 'Connection': 'keep-alive', 'Location': 'http://dev-actris-md.nilu.no/Metadata/398', 'Strict-Transport-Security': 'max-age=31536; includeSubDomains'}\n"
     ]
    }
   ],
   "source": [
    "url = \"https://dev-actris-md.nilu.no/metadata/add\"\n",
    "\n",
    "headers = {'Content-type': 'application/json', 'Accept': 'application/json'}\n",
    "r = requests.post(url, json=metadata, headers=headers)\n",
    "\n",
    "print(r.headers)\n",
    "#print(r.text)\n",
    "#print(r.status_code)"
   ]
  },
  {
   "cell_type": "markdown",
   "metadata": {},
   "source": [
    "# List metadata\n",
    "Note that not all metadata is available in the metadata view, will implement the rest of the elements likely during next week (end of January)"
   ]
  },
  {
   "cell_type": "code",
   "execution_count": 24,
   "metadata": {},
   "outputs": [],
   "source": [
    "url = r.headers['Location']"
   ]
  },
  {
   "cell_type": "code",
   "execution_count": 25,
   "metadata": {},
   "outputs": [],
   "source": [
    "response = requests.get(url)\n",
    "\n",
    "metadata = response.json()"
   ]
  },
  {
   "cell_type": "code",
   "execution_count": 26,
   "metadata": {},
   "outputs": [
    {
     "name": "stdout",
     "output_type": "stream",
     "text": [
      "[{'md_keywords': {'keywords': ['NO0042G,', 'Zeppelin', 'mountain', '(Ny-Ålesund),', 'pm10,', 'particle_number_size_distribution,', 'GAW-WDCA,', 'ACTRIS,', 'EMEP,', 'NILU']}, 'md_metadata': {'id': 349, 'file_identifier': 'NO0042G.20180101000000.20190508191242.dmps.particle_number_size_distribution.pm10.1y.1h.NO01L_NILU_DMPSmodel2_ZEP.NO01L_dmps_DMPS_ZEP01.lev2.nc', 'language': 'en', 'hierarchy_level': 'dataset', 'online_resource': {'linkage': 'https://www.nilu.no/'}, 'contact': [{'first_name': 'Markus', 'last_name': 'Fiebig', 'organisation_name': 'Norwegian Institute for Air Research (NILU)', 'role_code': ['custodian'], 'country': 'Norway', 'delivery_point': 'Insituttveien 18', 'address_city': 'Kjeller', 'administrative_area': 'Viken', 'postal_code': 2007, 'email': 'ebas@nilu.no', 'position_name': 'Senior Scientist'}], 'datestamp': '2019-05-08T17:12:42.0000000Z'}}]\n"
     ]
    }
   ],
   "source": [
    "print(metadata)"
   ]
  },
  {
   "cell_type": "code",
   "execution_count": 27,
   "metadata": {},
   "outputs": [],
   "source": [
    "# all metadata\n",
    "\n",
    "url = 'http://dev-actris-md.nilu.no/Metadata'\n",
    "\n",
    "response = requests.get(url)\n",
    "\n",
    "metadata = response.json()"
   ]
  },
  {
   "cell_type": "code",
   "execution_count": 28,
   "metadata": {},
   "outputs": [
    {
     "name": "stdout",
     "output_type": "stream",
     "text": [
      "[{'md_keywords': {'keywords': ['NO0042G', 'Zeppelin mountain (Ny-Ålesund)', 'pm10', 'particle_number_size_distribution', 'GAW-WDCA', 'ACTRIS', 'EMEP', 'NILU']}, 'md_metadata': {'id': 214, 'file_identifier': 'EBAS240209145', 'language': 'en', 'hierarchy_level': 'dataset', 'online_resource': {'linkage': 'https://www.nilu.no/'}, 'contact': [{'first_name': 'Markus', 'last_name': 'Fiebig', 'organisation_name': 'Norwegian Institute for Air Research', 'role_code': ['custodian', 'originator', 'processor'], 'country': 'Norway', 'delivery_point': 'Insituttveien 18', 'address_city': 'Kjeller', 'administrative_area': 'Viken', 'postal_code': 2007, 'email': 'some.name@email.com', 'position_name': 'Senior Scientist'}], 'datestamp': '2012-05-20T07:45:00.0000000Z'}}, {'md_keywords': {'keywords': ['NO0042G', 'Zeppelin mountain (Ny-Ålesund)', 'pm10', 'particle_number_size_distribution', 'GAW-WDCA', 'ACTRIS', 'EMEP', 'NILU']}, 'md_metadata': {'id': 215, 'file_identifier': 'EBAS24020914123', 'language': 'en', 'hierarchy_level': 'dataset', 'online_resource': {'linkage': 'https://www.nilu.no/'}, 'contact': [{'first_name': 'Richard', 'last_name': 'Rud', 'organisation_name': 'Norwegian Institute for Air Research', 'role_code': ['custodian'], 'country': 'Norway', 'delivery_point': 'Insituttveien 18', 'address_city': 'Kjeller', 'administrative_area': 'Viken', 'postal_code': 2007, 'email': 'some.name@email.com', 'position_name': 'Senior Scientist'}], 'datestamp': '2019-11-20T07:45:17.0000000Z'}}, {'md_keywords': {'keywords': ['NO0042G', 'Zeppelin mountain (Ny-Ålesund)', 'pm10', 'particle_number_size_distribution', 'GAW-WDCA', 'ACTRIS', 'EMEP', 'NILU']}, 'md_metadata': {'id': 216, 'file_identifier': 'EBAS24020914123', 'language': 'en', 'hierarchy_level': 'dataset', 'online_resource': {'linkage': 'https://www.nilu.no/'}, 'contact': [{'first_name': 'Richard', 'last_name': 'Rud', 'organisation_name': 'Norwegian Institute for Air Research', 'role_code': ['custodian'], 'country': 'Norway', 'delivery_point': 'Insituttveien 18', 'address_city': 'Kjeller', 'administrative_area': 'Viken', 'postal_code': 2007, 'email': 'some.name@email.com', 'position_name': 'Senior Scientist'}], 'datestamp': '2019-11-20T07:45:17.0000000Z'}}, {'md_keywords': {'keywords': ['NO0042G', 'Zeppelin mountain (Ny-Ålesund)', 'pm10', 'particle_number_size_distribution', 'GAW-WDCA', 'ACTRIS', 'EMEP', 'NILU']}, 'md_metadata': {'id': 217, 'file_identifier': 'EBAS24020914123', 'language': 'en', 'hierarchy_level': 'dataset', 'online_resource': {'linkage': 'https://www.nilu.no/'}, 'contact': [{'first_name': 'Richard', 'last_name': 'Rud', 'organisation_name': 'Norwegian Institute for Air Research', 'role_code': ['custodian'], 'country': 'Norway', 'delivery_point': 'Insituttveien 18', 'address_city': 'Kjeller', 'administrative_area': 'Viken', 'postal_code': 2007, 'email': 'some.name@email.com', 'position_name': 'Senior Scientist'}], 'datestamp': '2019-11-20T07:45:17.0000000Z'}}, {'md_keywords': {'keywords': ['NO0042G', 'Zeppelin mountain (Ny-Ålesund)', 'pm10', 'particle_number_size_distribution', 'GAW-WDCA', 'ACTRIS', 'EMEP', 'NILU']}, 'md_metadata': {'id': 218, 'file_identifier': 'EBAS24020914123', 'language': 'en', 'hierarchy_level': 'dataset', 'online_resource': {'linkage': 'https://www.nilu.no/'}, 'contact': [{'first_name': 'Richard', 'last_name': 'Rud', 'organisation_name': 'Norwegian Institute for Air Research', 'role_code': ['custodian'], 'country': 'Norway', 'delivery_point': 'Insituttveien 18', 'address_city': 'Kjeller', 'administrative_area': 'Viken', 'postal_code': 2007, 'email': 'some.name@email.com', 'position_name': 'Senior Scientist'}], 'datestamp': '2019-11-20T07:45:17.0000000Z'}}, {'md_keywords': {'keywords': ['NO0042G', 'Zeppelin mountain (Ny-Ålesund)', 'pm10', 'particle_number_size_distribution', 'GAW-WDCA', 'ACTRIS', 'EMEP', 'NILU']}, 'md_metadata': {'id': 219, 'file_identifier': 'EBAS24020914123', 'language': 'en', 'hierarchy_level': 'dataset', 'online_resource': {'linkage': 'https://www.nilu.no/'}, 'contact': [{'first_name': 'Richard Olav', 'last_name': 'Rud', 'organisation_name': 'Norwegian Institute for Air Research', 'role_code': ['custodian'], 'country': 'Norway', 'delivery_point': 'Insituttveien 18', 'address_city': 'Kjeller', 'administrative_area': 'Viken', 'postal_code': 2007, 'email': 'some.name@email.com', 'position_name': 'Senior Scientist'}], 'datestamp': '2019-11-20T07:45:17.0000000Z'}}, {'md_keywords': {'keywords': ['NO0042G', 'Zeppelin mountain (Ny-Ålesund)', 'pm10', 'particle_number_size_distribution', 'GAW-WDCA', 'ACTRIS', 'EMEP', 'NILU']}, 'md_metadata': {'id': 220, 'file_identifier': 'EBAS24020914123', 'language': 'en', 'hierarchy_level': 'dataset', 'online_resource': {'linkage': 'https://www.nilu.no/'}, 'contact': [{'first_name': 'Richard Olav', 'last_name': 'Rud', 'organisation_name': 'Norwegian Institute for Air Research', 'role_code': ['custodian'], 'country': 'Norway', 'delivery_point': 'Insituttveien 18', 'address_city': 'Kjeller', 'administrative_area': 'Viken', 'postal_code': 2007, 'email': 'some.name@email.com', 'position_name': 'Senior Scientist'}], 'datestamp': '2019-11-20T07:45:17.0000000Z'}}, {'md_keywords': {'keywords': ['NO0042G', 'Zeppelin mountain (Ny-Ålesund)', 'pm10', 'particle_number_size_distribution', 'GAW-WDCA', 'ACTRIS', 'EMEP', 'NILU']}, 'md_metadata': {'id': 221, 'file_identifier': 'EBAS24020914123', 'language': 'en', 'hierarchy_level': 'dataset', 'online_resource': {'linkage': 'https://www.nilu.no/'}, 'contact': [{'first_name': 'Richard Olav', 'last_name': 'Rud', 'organisation_name': 'Norwegian Institute for Air Research', 'role_code': ['custodian'], 'country': 'Norway', 'delivery_point': 'Insituttveien 18', 'address_city': 'Kjeller', 'administrative_area': 'Viken', 'postal_code': 2007, 'email': 'some.name@email.com', 'position_name': 'Senior Scientist'}], 'datestamp': '2019-11-20T07:45:17.0000000Z'}}, {'md_keywords': {'keywords': ['NO0042G', 'Zeppelin mountain (Ny-Ålesund)', 'pm10', 'particle_number_size_distribution', 'GAW-WDCA', 'ACTRIS', 'EMEP', 'NILU']}, 'md_metadata': {'id': 222, 'file_identifier': 'EBAS24020914123', 'language': 'en', 'hierarchy_level': 'dataset', 'online_resource': {'linkage': 'https://www.nilu.no/'}, 'contact': [{'first_name': 'Richard Olav', 'last_name': 'Rud', 'organisation_name': 'Norwegian Institute for Air Research', 'role_code': ['custodian'], 'country': 'Norway', 'delivery_point': 'Insituttveien 18', 'address_city': 'Kjeller', 'administrative_area': 'Viken', 'postal_code': 2007, 'email': 'some.name@email.com', 'position_name': 'Senior Scientist'}], 'datestamp': '2019-11-20T07:45:17.0000000Z'}}, {'md_keywords': {'keywords': ['NO0042G', 'Zeppelin mountain (Ny-Ålesund)', 'pm10', 'particle_number_size_distribution', 'GAW-WDCA', 'ACTRIS', 'EMEP', 'NILU']}, 'md_metadata': {'id': 223, 'file_identifier': 'EBAS24020914123', 'language': 'en', 'hierarchy_level': 'dataset', 'online_resource': {'linkage': 'https://www.nilu.no/'}, 'contact': [{'first_name': 'Richard Olav', 'last_name': 'Rud', 'organisation_name': 'Norwegian Institute for Air Research', 'role_code': ['custodian'], 'country': 'Norway', 'delivery_point': 'Insituttveien 18', 'address_city': 'Kjeller', 'administrative_area': 'Viken', 'postal_code': 2007, 'email': 'some.name@email.com', 'position_name': 'Senior Scientist'}], 'datestamp': '2019-11-20T07:45:17.0000000Z'}}, {'md_keywords': {'keywords': ['NO0042G', 'Zeppelin mountain (Ny-Ålesund)', 'pm10', 'particle_number_size_distribution', 'GAW-WDCA', 'ACTRIS', 'EMEP', 'NILU']}, 'md_metadata': {'id': 224, 'file_identifier': 'EBAS24020914123', 'language': 'en', 'hierarchy_level': 'dataset', 'online_resource': {'linkage': 'https://www.nilu.no/'}, 'contact': [{'first_name': 'Richard Olav', 'last_name': 'Rud', 'organisation_name': 'Norwegian Institute for Air Research', 'role_code': ['custodian'], 'country': 'Norway', 'delivery_point': 'Insituttveien 18', 'address_city': 'Kjeller', 'administrative_area': 'Viken', 'postal_code': 2007, 'email': 'some.name@email.com', 'position_name': 'Senior Scientist'}], 'datestamp': '2019-11-20T07:45:17.0000000Z'}}, {'md_keywords': {'keywords': ['NO0042G', 'Zeppelin mountain (Ny-Ålesund)', 'pm10', 'particle_number_size_distribution', 'GAW-WDCA', 'ACTRIS', 'EMEP', 'NILU']}, 'md_metadata': {'id': 225, 'file_identifier': 'EBAS24020914123', 'language': 'en', 'hierarchy_level': 'dataset', 'online_resource': {'linkage': 'https://www.nilu.no/'}, 'contact': [{'first_name': 'Richard Olav', 'last_name': 'Rud', 'organisation_name': 'Norwegian Institute for Air Research', 'role_code': ['custodian'], 'country': 'Norway', 'delivery_point': 'Insituttveien 18', 'address_city': 'Kjeller', 'administrative_area': 'Viken', 'postal_code': 2007, 'email': 'some.name@email.com', 'position_name': 'Senior Scientist'}], 'datestamp': '2019-11-20T07:45:17.0000000Z'}}, {'md_keywords': {'keywords': ['NO0042G', 'Zeppelin mountain (Ny-Ålesund)', 'pm10', 'particle_number_size_distribution', 'GAW-WDCA', 'ACTRIS', 'EMEP', 'NILU']}, 'md_metadata': {'id': 226, 'file_identifier': 'EBAS24020914123', 'language': 'en', 'hierarchy_level': 'dataset', 'online_resource': {'linkage': 'https://www.nilu.no/'}, 'contact': [{'first_name': 'Richard Olav', 'last_name': 'Rud', 'organisation_name': 'Norwegian Institute for Air Research', 'role_code': ['custodian'], 'country': 'Norway', 'delivery_point': 'Insituttveien 18', 'address_city': 'Kjeller', 'administrative_area': 'Viken', 'postal_code': 2007, 'email': 'some.name@email.com', 'position_name': 'Senior Scientist'}], 'datestamp': '2019-11-20T07:45:17.0000000Z'}}, {'md_keywords': {'keywords': ['NO0042G', 'Zeppelin mountain (Ny-Ålesund)', 'pm10', 'particle_number_size_distribution', 'GAW-WDCA', 'ACTRIS', 'EMEP', 'NILU']}, 'md_metadata': {'id': 227, 'file_identifier': 'EBAS24020914123', 'language': 'en', 'hierarchy_level': 'dataset', 'online_resource': {'linkage': 'https://www.nilu.no/'}, 'contact': [{'first_name': 'Richard Olav', 'last_name': 'Rud', 'organisation_name': 'Norwegian Institute for Air Research', 'role_code': ['custodian'], 'country': 'Norway', 'delivery_point': 'Insituttveien 18', 'address_city': 'Kjeller', 'administrative_area': 'Viken', 'postal_code': 2007, 'email': 'some.name@email.com', 'position_name': 'Senior Scientist'}], 'datestamp': '2019-11-20T07:45:17.0000000Z'}}, {'md_keywords': {'keywords': ['NO0042G', 'Zeppelin mountain (Ny-Ålesund)', 'pm10', 'particle_number_size_distribution', 'GAW-WDCA', 'ACTRIS', 'EMEP', 'NILU']}, 'md_metadata': {'id': 228, 'file_identifier': 'EBAS24020914123', 'language': 'en', 'hierarchy_level': 'dataset', 'online_resource': {'linkage': 'https://www.nilu.no/'}, 'contact': [{'first_name': 'Richard', 'last_name': 'Rud', 'organisation_name': 'Norwegian Institute for Air Research', 'role_code': ['custodian'], 'country': 'Norway', 'delivery_point': 'Insituttveien 18', 'address_city': 'Kjeller', 'administrative_area': 'Viken', 'postal_code': 2007, 'email': 'some.name@email.com', 'position_name': 'Senior Scientist'}], 'datestamp': '2019-11-20T07:45:17.0000000Z'}}, {'md_keywords': {'keywords': ['NO0042G', 'Zeppelin mountain (Ny-Ålesund)', 'pm10', 'particle_number_size_distribution', 'GAW-WDCA', 'ACTRIS', 'EMEP', 'NILU']}, 'md_metadata': {'id': 229, 'file_identifier': 'EBAS24020914123', 'language': 'en', 'hierarchy_level': 'dataset', 'online_resource': {'linkage': 'https://www.nilu.no/'}, 'contact': [{'first_name': 'Richard Olav', 'last_name': 'Rud', 'organisation_name': 'Norwegian Institute for Air Research', 'role_code': ['custodian'], 'country': 'Norway', 'delivery_point': 'Insituttveien 18', 'address_city': 'Kjeller', 'administrative_area': 'Viken', 'postal_code': 2007, 'email': 'some.name@email.com', 'position_name': 'Senior Scientist'}], 'datestamp': '2019-11-20T07:45:17.0000000Z'}}, {'md_keywords': {'keywords': ['NO0042G', 'Zeppelin mountain (Ny-Ålesund)', 'pm10', 'particle_number_size_distribution', 'GAW-WDCA', 'ACTRIS', 'EMEP', 'NILU']}, 'md_metadata': {'id': 230, 'file_identifier': 'EBAS24020914123', 'language': 'en', 'hierarchy_level': 'dataset', 'online_resource': {'linkage': 'https://www.nilu.no/'}, 'contact': [{'first_name': 'Richard', 'last_name': 'Rud', 'organisation_name': 'Norwegian Institute for Air Research', 'role_code': ['custodian'], 'country': 'Norway', 'delivery_point': 'Insituttveien 18', 'address_city': 'Kjeller', 'administrative_area': 'Viken', 'postal_code': 2007, 'email': 'some.name@email.com', 'position_name': 'Senior Scientist'}], 'datestamp': '2019-11-20T07:45:17.0000000Z'}}, {'md_keywords': {'keywords': ['NO0042G', 'Zeppelin mountain (Ny-Ålesund)', 'pm10', 'particle_number_size_distribution', 'GAW-WDCA', 'ACTRIS', 'EMEP', 'NILU']}, 'md_metadata': {'id': 231, 'file_identifier': 'EBAS24020914123', 'language': 'en', 'hierarchy_level': 'dataset', 'online_resource': {'linkage': 'https://www.nilu.no/'}, 'contact': [{'first_name': 'Richard', 'last_name': 'Rud', 'organisation_name': 'Norwegian Institute for Air Research', 'role_code': ['custodian'], 'country': 'Norway', 'delivery_point': 'Insituttveien 18', 'address_city': 'Kjeller', 'administrative_area': 'Viken', 'postal_code': 2007, 'email': 'some.name@email.com', 'position_name': 'Senior Scientist'}], 'datestamp': '2019-11-20T07:45:17.0000000Z'}}, {'md_keywords': {'keywords': ['NO0042G', 'Zeppelin mountain (Ny-Ålesund)', 'pm10', 'particle_number_size_distribution', 'GAW-WDCA', 'ACTRIS', 'EMEP', 'NILU']}, 'md_metadata': {'id': 232, 'file_identifier': 'EBAS24020914123', 'language': 'en', 'hierarchy_level': 'dataset', 'online_resource': {'linkage': 'https://www.nilu.no/'}, 'contact': [{'first_name': 'Richard Olav', 'last_name': 'Rud', 'organisation_name': 'Norwegian Institute for Air Research', 'role_code': ['custodian'], 'country': 'Norway', 'delivery_point': 'Insituttveien 18', 'address_city': 'Kjeller', 'administrative_area': 'Viken', 'postal_code': 2007, 'email': 'some.name@email.com', 'position_name': 'Senior Scientist'}], 'datestamp': '2019-11-20T07:45:17.0000000Z'}}, {'md_keywords': {'keywords': ['NO0042G', 'Zeppelin mountain (Ny-Ålesund)', 'pm10', 'particle_number_size_distribution', 'GAW-WDCA', 'ACTRIS', 'EMEP', 'NILU']}, 'md_metadata': {'id': 233, 'file_identifier': 'EBAS24020914123', 'language': 'en', 'hierarchy_level': 'dataset', 'online_resource': {'linkage': 'https://www.nilu.no/'}, 'contact': [{'first_name': 'Richard', 'last_name': 'Rud', 'organisation_name': 'Norwegian Institute for Air Research', 'role_code': ['custodian'], 'country': 'Norway', 'delivery_point': 'Insituttveien 18', 'address_city': 'Kjeller', 'administrative_area': 'Viken', 'postal_code': 2007, 'email': 'some.name@email.com', 'position_name': 'Senior Scientist'}], 'datestamp': '2019-11-20T07:45:17.0000000Z'}}, {'md_keywords': {'keywords': ['NO0042G', 'Zeppelin mountain (Ny-Ålesund)', 'pm10', 'particle_number_size_distribution', 'GAW-WDCA', 'ACTRIS', 'EMEP', 'NILU']}, 'md_metadata': {'id': 234, 'file_identifier': 'EBAS24020914123', 'language': 'en', 'hierarchy_level': 'dataset', 'online_resource': {'linkage': 'https://www.nilu.no/'}, 'contact': [{'first_name': 'Richard Olav', 'last_name': 'Rud', 'organisation_name': 'Norwegian Institute for Air Research', 'role_code': ['custodian'], 'country': 'Norway', 'delivery_point': 'Insituttveien 18', 'address_city': 'Kjeller', 'administrative_area': 'Viken', 'postal_code': 2007, 'email': 'some.name@email.com', 'position_name': 'Senior Scientist'}], 'datestamp': '2019-11-20T07:45:17.0000000Z'}}, {'md_keywords': {'keywords': ['NO0042G', 'Zeppelin mountain (Ny-Ålesund)', 'pm10', 'particle_number_size_distribution', 'GAW-WDCA', 'ACTRIS', 'EMEP', 'NILU']}, 'md_metadata': {'id': 235, 'file_identifier': 'EBAS24020914123', 'language': 'en', 'hierarchy_level': 'dataset', 'online_resource': {'linkage': 'https://www.nilu.no/'}, 'contact': [{'first_name': 'Richard', 'last_name': 'Rud', 'organisation_name': 'Norwegian Institute for Air Research', 'role_code': ['custodian'], 'country': 'Norway', 'delivery_point': 'Insituttveien 18', 'address_city': 'Kjeller', 'administrative_area': 'Viken', 'postal_code': 2007, 'email': 'some.name@email.com', 'position_name': 'Senior Scientist'}], 'datestamp': '2019-11-20T07:45:17.0000000Z'}}, {'md_keywords': {'keywords': ['NO0042G', 'Zeppelin mountain (Ny-Ålesund)', 'pm10', 'particle_number_size_distribution', 'GAW-WDCA', 'ACTRIS', 'EMEP', 'NILU']}, 'md_metadata': {'id': 236, 'file_identifier': 'EBAS24020914123', 'language': 'en', 'hierarchy_level': 'dataset', 'online_resource': {'linkage': 'https://www.nilu.no/'}, 'contact': [{'first_name': 'Richard', 'last_name': 'Rud', 'organisation_name': 'Norwegian Institute for Air Research', 'role_code': ['custodian'], 'country': 'Norway', 'delivery_point': 'Insituttveien 18', 'address_city': 'Kjeller', 'administrative_area': 'Viken', 'postal_code': 2007, 'email': 'some.name@email.com', 'position_name': 'Senior Scientist'}], 'datestamp': '2019-11-20T07:45:17.0000000Z'}}, {'md_keywords': {'keywords': ['NO0042G', 'Zeppelin mountain (Ny-Ålesund)', 'pm10', 'particle_number_size_distribution', 'GAW-WDCA', 'ACTRIS', 'EMEP', 'NILU']}, 'md_metadata': {'id': 237, 'file_identifier': 'EBAS24020914123', 'language': 'en', 'hierarchy_level': 'dataset', 'online_resource': {'linkage': 'https://www.nilu.no/'}, 'contact': [{'first_name': 'Richard', 'last_name': 'Rud', 'organisation_name': 'Norwegian Institute for Air Research', 'role_code': ['custodian'], 'country': 'Norway', 'delivery_point': 'Insituttveien 18', 'address_city': 'Kjeller', 'administrative_area': 'Viken', 'postal_code': 2007, 'email': 'some.name@email.com', 'position_name': 'Senior Scientist'}], 'datestamp': '2019-11-20T07:45:17.0000000Z'}}, {'md_keywords': {'keywords': ['NO0042G', 'Zeppelin mountain (Ny-Ålesund)', 'pm10', 'particle_number_size_distribution', 'GAW-WDCA', 'ACTRIS', 'EMEP', 'NILU']}, 'md_metadata': {'id': 238, 'file_identifier': 'EBAS24020914123', 'language': 'en', 'hierarchy_level': 'dataset', 'online_resource': {'linkage': 'https://www.nilu.no/'}, 'contact': [{'first_name': 'Richard', 'last_name': 'Rud', 'organisation_name': 'Norwegian Institute for Air Research', 'role_code': ['custodian'], 'country': 'Norway', 'delivery_point': 'Insituttveien 18', 'address_city': 'Kjeller', 'administrative_area': 'Viken', 'postal_code': 2007, 'email': 'some.name@email.com', 'position_name': 'Senior Scientist'}], 'datestamp': '2019-11-20T07:45:17.0000000Z'}}, {'md_keywords': {'keywords': ['NO0042G', 'Zeppelin mountain (Ny-Ålesund)', 'pm10', 'particle_number_size_distribution', 'GAW-WDCA', 'ACTRIS', 'EMEP', 'NILU']}, 'md_metadata': {'id': 239, 'file_identifier': 'EBAS24020914123', 'language': 'en', 'hierarchy_level': 'dataset', 'online_resource': {'linkage': 'https://www.nilu.no/'}, 'contact': [{'first_name': 'Richard', 'last_name': 'Rud', 'organisation_name': 'Norwegian Institute for Air Research', 'role_code': ['custodian'], 'country': 'Norway', 'delivery_point': 'Insituttveien 18', 'address_city': 'Kjeller', 'administrative_area': 'Viken', 'postal_code': 2007, 'email': 'some.name@email.com', 'position_name': 'Senior Scientist'}], 'datestamp': '2019-11-20T07:45:17.0000000Z'}}, {'md_keywords': {'keywords': ['NO0042G', 'Zeppelin mountain (Ny-Ålesund)', 'pm10', 'particle_number_size_distribution', 'GAW-WDCA', 'ACTRIS', 'EMEP', 'NILU']}, 'md_metadata': {'id': 240, 'file_identifier': 'EBAS24020914123', 'language': 'en', 'hierarchy_level': 'dataset', 'online_resource': {'linkage': 'https://www.nilu.no/'}, 'contact': [{'first_name': 'Richard Olav', 'last_name': 'Rud', 'organisation_name': 'Norwegian Institute for Air Research', 'role_code': ['custodian'], 'country': 'Norway', 'delivery_point': 'Insituttveien 18', 'address_city': 'Kjeller', 'administrative_area': 'Viken', 'postal_code': 2007, 'email': 'some.name@email.com', 'position_name': 'Senior Scientist'}], 'datestamp': '2019-11-20T07:45:17.0000000Z'}}, {'md_keywords': {'keywords': ['NO0042G', 'Zeppelin mountain (Ny-Ålesund)', 'pm10', 'particle_number_size_distribution', 'GAW-WDCA', 'ACTRIS', 'EMEP', 'NILU']}, 'md_metadata': {'id': 241, 'file_identifier': 'EBAS24020914123', 'language': 'en', 'hierarchy_level': 'dataset', 'online_resource': {'linkage': 'https://www.nilu.no/'}, 'contact': [{'first_name': 'Richard', 'last_name': 'Rud', 'organisation_name': 'Norwegian Institute for Air Research', 'role_code': ['custodian'], 'country': 'Norway', 'delivery_point': 'Insituttveien 18', 'address_city': 'Kjeller', 'administrative_area': 'Viken', 'postal_code': 2007, 'email': 'some.name@email.com', 'position_name': 'Senior Scientist'}], 'datestamp': '2019-11-20T07:45:17.0000000Z'}}, {'md_keywords': {'keywords': ['NO0042G', 'Zeppelin mountain (Ny-Ålesund)', 'pm10', 'particle_number_size_distribution', 'GAW-WDCA', 'ACTRIS', 'EMEP', 'NILU']}, 'md_metadata': {'id': 244, 'file_identifier': 'EBAS240209145', 'language': 'en', 'hierarchy_level': 'dataset', 'online_resource': {'linkage': 'https://www.nilu.no/'}, 'contact': [{'first_name': 'Markus', 'last_name': 'Fiebig', 'organisation_name': 'Norwegian Institute for Air Research', 'role_code': ['custodian', 'originator', 'processor'], 'country': 'Norway', 'delivery_point': 'Insituttveien 18', 'address_city': 'Kjeller', 'administrative_area': 'Viken', 'postal_code': 2007, 'email': 'some.name@email.com', 'position_name': 'Senior Scientist'}], 'datestamp': '2012-05-20T07:45:00.0000000Z'}}, {'md_keywords': {'keywords': ['NO0042G', 'Zeppelin mountain (Ny-Ålesund)', 'pm10', 'particle_number_size_distribution', 'GAW-WDCA', 'ACTRIS', 'EMEP', 'NILU']}, 'md_metadata': {'id': 245, 'file_identifier': 'EBAS24020914123', 'language': 'en', 'hierarchy_level': 'dataset', 'online_resource': {'linkage': 'https://www.nilu.no/'}, 'contact': [{'first_name': 'Richard Olav', 'last_name': 'Rud', 'organisation_name': 'Norwegian Institute for Air Research', 'role_code': ['custodian'], 'country': 'Norway', 'delivery_point': 'Insituttveien 18', 'address_city': 'Kjeller', 'administrative_area': 'Viken', 'postal_code': 2007, 'email': 'some.name@email.com', 'position_name': 'Senior Scientist'}], 'datestamp': '2019-11-20T07:45:17.0000000Z'}}, {'md_keywords': {'keywords': ['NO0042G', 'Zeppelin mountain (Ny-Ålesund)', 'pm10', 'particle_number_size_distribution', 'GAW-WDCA', 'ACTRIS', 'EMEP', 'NILU']}, 'md_metadata': {'id': 246, 'file_identifier': 'EBAS240209145', 'language': 'en', 'hierarchy_level': 'dataset', 'online_resource': {'linkage': 'https://www.nilu.no/'}, 'contact': [{'first_name': 'Markus', 'last_name': 'Fiebig', 'organisation_name': 'Norwegian Institute for Air Research', 'role_code': ['custodian', 'originator', 'processor'], 'country': 'Norway', 'delivery_point': 'Insituttveien 18', 'address_city': 'Kjeller', 'administrative_area': 'Viken', 'postal_code': 2007, 'email': 'some.name@email.com', 'position_name': 'Senior Scientist'}], 'datestamp': '2012-05-20T07:45:00.0000000Z'}}, {'md_keywords': {'keywords': ['NO0042G', 'Zeppelin mountain (Ny-Ålesund)', 'pm10', 'particle_number_size_distribution', 'GAW-WDCA', 'ACTRIS', 'EMEP', 'NILU']}, 'md_metadata': {'id': 247, 'file_identifier': 'EBAS240209145', 'language': 'en', 'hierarchy_level': 'dataset', 'online_resource': {'linkage': 'https://www.nilu.no/'}, 'contact': [{'first_name': 'Markus', 'last_name': 'Fiebig', 'organisation_name': 'Norwegian Institute for Air Research', 'role_code': ['custodian', 'originator', 'processor'], 'country': 'Norway', 'delivery_point': 'Insituttveien 18', 'address_city': 'Kjeller', 'administrative_area': 'Viken', 'postal_code': 2007, 'email': 'some.name@email.com', 'position_name': 'Senior Scientist'}], 'datestamp': '2012-05-20T07:45:00.0000000Z'}}, {'md_keywords': {'keywords': ['NO0042G', 'Zeppelin mountain (Ny-Ålesund)', 'pm10', 'particle_number_size_distribution', 'GAW-WDCA', 'ACTRIS', 'EMEP', 'NILU']}, 'md_metadata': {'id': 248, 'file_identifier': 'EBAS24020914123', 'language': 'en', 'hierarchy_level': 'dataset', 'online_resource': {'linkage': 'https://www.nilu.no/'}, 'contact': [{'first_name': 'Richard Olav', 'last_name': 'Rud', 'organisation_name': 'Norwegian Institute for Air Research', 'role_code': ['custodian'], 'country': 'Norway', 'delivery_point': 'Insituttveien 18', 'address_city': 'Kjeller', 'administrative_area': 'Viken', 'postal_code': 2007, 'email': 'some.name@email.com', 'position_name': 'Senior Scientist'}], 'datestamp': '2019-11-20T07:45:17.0000000Z'}}, {'md_keywords': {'keywords': ['NO0042G', 'Zeppelin mountain (Ny-Ålesund)', 'pm10', 'particle_number_size_distribution', 'GAW-WDCA', 'ACTRIS', 'EMEP', 'NILU']}, 'md_metadata': {'id': 249, 'file_identifier': 'EBAS24020914123', 'language': 'en', 'hierarchy_level': 'dataset', 'online_resource': {'linkage': 'https://www.nilu.no/'}, 'contact': [{'first_name': 'Richard Olav', 'last_name': 'Rud', 'organisation_name': 'Norwegian Institute for Air Research', 'role_code': ['custodian'], 'country': 'Norway', 'delivery_point': 'Insituttveien 18', 'address_city': 'Kjeller', 'administrative_area': 'Viken', 'postal_code': 2007, 'email': 'some.name@email.com', 'position_name': 'Senior Scientist'}], 'datestamp': '2019-11-20T07:45:17.0000000Z'}}, {'md_keywords': {'keywords': ['NO0042G', 'Zeppelin mountain (Ny-Ålesund)', 'pm10', 'particle_number_size_distribution', 'GAW-WDCA', 'ACTRIS', 'EMEP', 'NILU']}, 'md_metadata': {'id': 250, 'file_identifier': 'EBAS240209145', 'language': 'en', 'hierarchy_level': 'dataset', 'online_resource': {'linkage': 'https://www.nilu.no/'}, 'contact': [{'first_name': 'Markus', 'last_name': 'Fiebig', 'organisation_name': 'Norwegian Institute for Air Research', 'role_code': ['custodian', 'originator', 'processor'], 'country': 'Norway', 'delivery_point': 'Insituttveien 18', 'address_city': 'Kjeller', 'administrative_area': 'Viken', 'postal_code': 2007, 'email': 'some.name@email.com', 'position_name': 'Senior Scientist'}], 'datestamp': '2012-05-20T07:45:00.0000000Z'}}, {'md_keywords': {'keywords': ['NO0042G', 'Zeppelin mountain (Ny-Ålesund)', 'pm10', 'particle_number_size_distribution', 'GAW-WDCA', 'ACTRIS', 'EMEP', 'NILU']}, 'md_metadata': {'id': 251, 'file_identifier': 'EBAS24020914123', 'language': 'en', 'hierarchy_level': 'dataset', 'online_resource': {'linkage': 'https://www.nilu.no/'}, 'contact': [{'first_name': 'Richard Olav', 'last_name': 'Rud', 'organisation_name': 'Norwegian Institute for Air Research', 'role_code': ['custodian'], 'country': 'Norway', 'delivery_point': 'Insituttveien 18', 'address_city': 'Kjeller', 'administrative_area': 'Viken', 'postal_code': 2007, 'email': 'some.name@email.com', 'position_name': 'Senior Scientist'}], 'datestamp': '2019-11-20T07:45:17.0000000Z'}}, {'md_keywords': {'keywords': ['NO0042G', 'Zeppelin mountain (Ny-Ålesund)', 'pm10', 'particle_number_size_distribution', 'GAW-WDCA', 'ACTRIS', 'EMEP', 'NILU']}, 'md_metadata': {'id': 252, 'file_identifier': 'EBAS24020914123', 'language': 'en', 'hierarchy_level': 'dataset', 'online_resource': {'linkage': 'https://www.nilu.no/'}, 'contact': [{'first_name': 'Richard Olav', 'last_name': 'Rud', 'organisation_name': 'Norwegian Institute for Air Research', 'role_code': ['custodian'], 'country': 'Norway', 'delivery_point': 'Insituttveien 18', 'address_city': 'Kjeller', 'administrative_area': 'Viken', 'postal_code': 2007, 'email': 'some.name@email.com', 'position_name': 'Senior Scientist'}], 'datestamp': '2019-11-20T07:45:17.0000000Z'}}, {'md_keywords': {'keywords': ['NO0042G', 'Zeppelin mountain (Ny-Ålesund)', 'pm10', 'particle_number_size_distribution', 'GAW-WDCA', 'ACTRIS', 'EMEP', 'NILU']}, 'md_metadata': {'id': 253, 'file_identifier': 'EBAS240209145', 'language': 'en', 'hierarchy_level': 'dataset', 'online_resource': {'linkage': 'https://www.nilu.no/'}, 'contact': [{'first_name': 'Markus', 'last_name': 'Fiebig', 'organisation_name': 'Norwegian Institute for Air Research', 'role_code': ['custodian', 'originator', 'processor'], 'country': 'Norway', 'delivery_point': 'Insituttveien 18', 'address_city': 'Kjeller', 'administrative_area': 'Viken', 'postal_code': 2007, 'email': 'some.name@email.com', 'position_name': 'Senior Scientist'}], 'datestamp': '2012-05-20T07:45:00.0000000Z'}}, {'md_keywords': {'keywords': ['NO0042G', 'Zeppelin mountain (Ny-Ålesund)', 'pm10', 'particle_number_size_distribution', 'GAW-WDCA', 'ACTRIS', 'EMEP', 'NILU']}, 'md_metadata': {'id': 254, 'file_identifier': 'EBAS24020914123', 'language': 'en', 'hierarchy_level': 'dataset', 'online_resource': {'linkage': 'https://www.nilu.no/'}, 'contact': [{'first_name': 'Richard Olav', 'last_name': 'Rud', 'organisation_name': 'Norwegian Institute for Air Research', 'role_code': ['custodian'], 'country': 'Norway', 'delivery_point': 'Insituttveien 18', 'address_city': 'Kjeller', 'administrative_area': 'Viken', 'postal_code': 2007, 'email': 'some.name@email.com', 'position_name': 'Senior Scientist'}], 'datestamp': '2019-11-20T07:45:17.0000000Z'}}, {'md_keywords': {'keywords': ['NO0042G', 'Zeppelin mountain (Ny-Ålesund)', 'pm10', 'particle_number_size_distribution', 'GAW-WDCA', 'ACTRIS', 'EMEP', 'NILU']}, 'md_metadata': {'id': 255, 'file_identifier': 'EBAS24020914123', 'language': 'en', 'hierarchy_level': 'dataset', 'online_resource': {'linkage': 'https://www.nilu.no/'}, 'contact': [{'first_name': 'Richard Olav', 'last_name': 'Rud', 'organisation_name': 'Norwegian Institute for Air Research', 'role_code': ['custodian'], 'country': 'Norway', 'delivery_point': 'Insituttveien 18', 'address_city': 'Kjeller', 'administrative_area': 'Viken', 'postal_code': 2007, 'email': 'some.name@email.com', 'position_name': 'Senior Scientist'}], 'datestamp': '2019-11-20T07:45:17.0000000Z'}}, {'md_keywords': {'keywords': ['NO0042G', 'Zeppelin mountain (Ny-Ålesund)', 'pm10', 'particle_number_size_distribution', 'GAW-WDCA', 'ACTRIS', 'EMEP', 'NILU']}, 'md_metadata': {'id': 256, 'file_identifier': 'EBAS24020914123', 'language': 'en', 'hierarchy_level': 'dataset', 'online_resource': {'linkage': 'https://www.nilu.no/'}, 'contact': [{'first_name': 'Richard Olav', 'last_name': 'Rud', 'organisation_name': 'Norwegian Institute for Air Research', 'role_code': ['custodian'], 'country': 'Norway', 'delivery_point': 'Insituttveien 18', 'address_city': 'Kjeller', 'administrative_area': 'Viken', 'postal_code': 2007, 'email': 'some.name@email.com', 'position_name': 'Senior Scientist'}], 'datestamp': '2019-11-20T07:45:17.0000000Z'}}, {'md_keywords': {'keywords': ['NO0042G', 'Zeppelin mountain (Ny-Ålesund)', 'pm10', 'particle_number_size_distribution', 'GAW-WDCA', 'ACTRIS', 'EMEP', 'NILU']}, 'md_metadata': {'id': 257, 'file_identifier': 'EBAS24020914123', 'language': 'en', 'hierarchy_level': 'dataset', 'online_resource': {'linkage': 'https://www.nilu.no/'}, 'contact': [{'first_name': 'Richard Olav', 'last_name': 'Rud', 'organisation_name': 'Norwegian Institute for Air Research', 'role_code': ['custodian'], 'country': 'Norway', 'delivery_point': 'Insituttveien 18', 'address_city': 'Kjeller', 'administrative_area': 'Viken', 'postal_code': 2007, 'email': 'some.name@email.com', 'position_name': 'Senior Scientist'}], 'datestamp': '2019-11-20T07:45:17.0000000Z'}}, {'md_keywords': {'keywords': ['NO0042G', 'Zeppelin mountain (Ny-Ålesund)', 'pm10', 'particle_number_size_distribution', 'GAW-WDCA', 'ACTRIS', 'EMEP', 'NILU']}, 'md_metadata': {'id': 258, 'file_identifier': 'EBAS24020914123', 'language': 'en', 'hierarchy_level': 'dataset', 'online_resource': {'linkage': 'https://www.nilu.no/'}, 'contact': [{'first_name': 'Richard Olav', 'last_name': 'Rud', 'organisation_name': 'Norwegian Institute for Air Research', 'role_code': ['custodian'], 'country': 'Norway', 'delivery_point': 'Insituttveien 18', 'address_city': 'Kjeller', 'administrative_area': 'Viken', 'postal_code': 2007, 'email': 'some.name@email.com', 'position_name': 'Senior Scientist'}], 'datestamp': '2019-11-20T07:45:17.0000000Z'}}, {'md_keywords': {'keywords': ['NO0042G', 'Zeppelin mountain (Ny-Ålesund)', 'pm10', 'particle_number_size_distribution', 'GAW-WDCA', 'ACTRIS', 'EMEP', 'NILU']}, 'md_metadata': {'id': 259, 'file_identifier': 'EBAS240209145', 'language': 'en', 'hierarchy_level': 'dataset', 'online_resource': {'linkage': 'https://www.nilu.no/'}, 'contact': [{'first_name': 'Markus', 'last_name': 'Fiebig', 'organisation_name': 'Norwegian Institute for Air Research', 'role_code': ['custodian', 'originator', 'processor'], 'country': 'Norway', 'delivery_point': 'Insituttveien 18', 'address_city': 'Kjeller', 'administrative_area': 'Viken', 'postal_code': 2007, 'email': 'some.name@email.com', 'position_name': 'Senior Scientist'}], 'datestamp': '2012-05-20T07:45:00.0000000Z'}}, {'md_keywords': {'keywords': ['NO0042G', 'Zeppelin mountain (Ny-Ålesund)', 'pm10', 'particle_number_size_distribution', 'GAW-WDCA', 'ACTRIS', 'EMEP', 'NILU']}, 'md_metadata': {'id': 260, 'file_identifier': 'EBAS240209145', 'language': 'en', 'hierarchy_level': 'dataset', 'online_resource': {'linkage': 'https://www.nilu.no/'}, 'contact': [{'first_name': 'Markus', 'last_name': 'Fiebig', 'organisation_name': 'Norwegian Institute for Air Research', 'role_code': ['custodian', 'originator', 'processor'], 'country': 'Norway', 'delivery_point': 'Insituttveien 18', 'address_city': 'Kjeller', 'administrative_area': 'Viken', 'postal_code': 2007, 'email': 'some.name@email.com', 'position_name': 'Senior Scientist'}], 'datestamp': '2012-05-20T07:45:00.0000000Z'}}, {'md_keywords': {'keywords': ['NO0042G', 'Zeppelin mountain (Ny-Ålesund)', 'pm10', 'particle_number_size_distribution', 'GAW-WDCA', 'ACTRIS', 'EMEP', 'NILU']}, 'md_metadata': {'id': 261, 'file_identifier': 'EBAS24020914123', 'language': 'en', 'hierarchy_level': 'dataset', 'online_resource': {'linkage': 'https://www.nilu.no/'}, 'contact': [{'first_name': 'Richard Olav', 'last_name': 'Rud', 'organisation_name': 'Norwegian Institute for Air Research', 'role_code': ['custodian'], 'country': 'Norway', 'delivery_point': 'Insituttveien 18', 'address_city': 'Kjeller', 'administrative_area': 'Viken', 'postal_code': 2007, 'email': 'some.name@email.com', 'position_name': 'Senior Scientist'}], 'datestamp': '2019-11-20T07:45:17.0000000Z'}}, {'md_keywords': {'keywords': ['NO0042G', 'Zeppelin mountain (Ny-Ålesund)', 'pm10', 'particle_number_size_distribution', 'GAW-WDCA', 'ACTRIS', 'EMEP', 'NILU']}, 'md_metadata': {'id': 262, 'file_identifier': 'EBAS24020914123', 'language': 'en', 'hierarchy_level': 'dataset', 'online_resource': {'linkage': 'https://www.nilu.no/'}, 'contact': [{'first_name': 'Richard Olav', 'last_name': 'Rud', 'organisation_name': 'Norwegian Institute for Air Research', 'role_code': ['custodian'], 'country': 'Norway', 'delivery_point': 'Insituttveien 18', 'address_city': 'Kjeller', 'administrative_area': 'Viken', 'postal_code': 2007, 'email': 'some.name@email.com', 'position_name': 'Senior Scientist'}], 'datestamp': '2019-11-20T07:45:17.0000000Z'}}, {'md_keywords': {'keywords': ['NO0042G', 'Zeppelin mountain (Ny-Ålesund)', 'pm10', 'particle_number_size_distribution', 'GAW-WDCA', 'ACTRIS', 'EMEP', 'NILU']}, 'md_metadata': {'id': 263, 'file_identifier': 'EBAS24020914123', 'language': 'en', 'hierarchy_level': 'dataset', 'online_resource': {'linkage': 'https://www.nilu.no/'}, 'contact': [{'first_name': 'Richard Olav', 'last_name': 'Rud', 'organisation_name': 'Norwegian Institute for Air Research', 'role_code': ['custodian'], 'country': 'Norway', 'delivery_point': 'Insituttveien 18', 'address_city': 'Kjeller', 'administrative_area': 'Viken', 'postal_code': 2007, 'email': 'some.name@email.com', 'position_name': 'Senior Scientist'}], 'datestamp': '2019-11-20T07:45:17.0000000Z'}}, {'md_keywords': {'keywords': ['NO0042G,', 'Zeppelin', 'mountain', 'Ny-Aalesund', 'pm10,', 'particle_number_size_distribution,', 'GAW-WDCA,', 'ACTRIS,', 'EMEP,', 'NILU']}, 'md_metadata': {'id': 264, 'file_identifier': 'EBAS24020914123', 'language': 'en', 'hierarchy_level': 'dataset', 'online_resource': {'linkage': 'https://www.nilu.no/'}, 'contact': [{'first_name': 'Markus', 'last_name': 'Fiebig', 'organisation_name': 'Norwegian Institute for Air Research (NILU)', 'role_code': ['custodian'], 'country': 'Norway', 'delivery_point': 'Insituttveien 18', 'address_city': 'Kjeller', 'administrative_area': 'Viken', 'postal_code': 2007, 'email': 'ebas@nilu.no', 'position_name': 'Senior Scientist'}], 'datestamp': '2019-05-08T19:12:42.0000000Z'}}, {'md_keywords': {'keywords': ['NO0042G,', 'Zeppelin', 'mountain', 'Ny-Aalesund', 'pm10,', 'particle_number_size_distribution,', 'GAW-WDCA,', 'ACTRIS,', 'EMEP,', 'NILU']}, 'md_metadata': {'id': 265, 'file_identifier': 'EBAS24020914123', 'language': 'en', 'hierarchy_level': 'dataset', 'online_resource': {'linkage': 'https://www.nilu.no/'}, 'contact': [{'first_name': 'Markus', 'last_name': 'Fiebig', 'organisation_name': 'Norwegian Institute for Air Research (NILU)', 'role_code': ['custodian'], 'country': 'Norway', 'delivery_point': 'Insituttveien 18', 'address_city': 'Kjeller', 'administrative_area': 'Viken', 'postal_code': 2007, 'email': 'ebas@nilu.no', 'position_name': 'Senior Scientist'}], 'datestamp': '2019-05-08T19:12:42.0000000Z'}}, {'md_keywords': {'keywords': ['NO0042G,', 'Zeppelin', 'mountain', 'Ny-Aalesund', 'pm10,', 'particle_number_size_distribution,', 'GAW-WDCA,', 'ACTRIS,', 'EMEP,', 'NILU']}, 'md_metadata': {'id': 266, 'file_identifier': 'EBAS24020914123', 'language': 'en', 'hierarchy_level': 'dataset', 'online_resource': {'linkage': 'https://www.nilu.no/'}, 'contact': [{'first_name': 'Markus', 'last_name': 'Fiebig', 'organisation_name': 'Norwegian Institute for Air Research (NILU)', 'role_code': ['custodian'], 'country': 'Norway', 'delivery_point': 'Insituttveien 18', 'address_city': 'Kjeller', 'administrative_area': 'Viken', 'postal_code': 2007, 'email': 'ebas@nilu.no', 'position_name': 'Senior Scientist'}], 'datestamp': '2019-05-08T19:12:42.0000000Z'}}, {'md_keywords': {'keywords': ['NO0042G,', 'Zeppelin', 'mountain', 'Ny-Aalesund', 'pm10,', 'particle_number_size_distribution,', 'GAW-WDCA,', 'ACTRIS,', 'EMEP,', 'NILU']}, 'md_metadata': {'id': 267, 'file_identifier': 'EBAS24020914123', 'language': 'en', 'hierarchy_level': 'dataset', 'online_resource': {'linkage': 'https://www.nilu.no/'}, 'contact': [{'first_name': 'Markus', 'last_name': 'Fiebig', 'organisation_name': 'Norwegian Institute for Air Research (NILU)', 'role_code': ['custodian'], 'country': 'Norway', 'delivery_point': 'Insituttveien 18', 'address_city': 'Kjeller', 'administrative_area': 'Viken', 'postal_code': 2007, 'email': 'ebas@nilu.no', 'position_name': 'Senior Scientist'}], 'datestamp': '2019-05-08T19:12:42.0000000Z'}}, {'md_keywords': {'keywords': ['NO0042G,', 'Zeppelin', 'mountain', 'Ny-Aalesund', 'pm10,', 'particle_number_size_distribution,', 'GAW-WDCA,', 'ACTRIS,', 'EMEP,', 'NILU']}, 'md_metadata': {'id': 268, 'file_identifier': 'EBAS24020914123', 'language': 'en', 'hierarchy_level': 'dataset', 'online_resource': {'linkage': 'https://www.nilu.no/'}, 'contact': [{'first_name': 'Markus', 'last_name': 'Fiebig', 'organisation_name': 'Norwegian Institute for Air Research (NILU)', 'role_code': ['custodian'], 'country': 'Norway', 'delivery_point': 'Insituttveien 18', 'address_city': 'Kjeller', 'administrative_area': 'Viken', 'postal_code': 2007, 'email': 'ebas@nilu.no', 'position_name': 'Senior Scientist'}], 'datestamp': '2019-05-08T19:12:42.0000000Z'}}, {'md_keywords': {'keywords': ['NO0042G', 'Zeppelin mountain (Ny-Ålesund)', 'pm10', 'particle_number_size_distribution', 'GAW-WDCA', 'ACTRIS', 'EMEP', 'NILU']}, 'md_metadata': {'id': 273, 'file_identifier': 'EBAS24020914123', 'language': 'en', 'hierarchy_level': 'dataset', 'online_resource': {'linkage': 'https://www.nilu.no/'}, 'contact': [{'first_name': 'Richard Olav', 'last_name': 'Rud', 'organisation_name': 'Norwegian Institute for Air Research', 'role_code': ['custodian'], 'country': 'Norway', 'delivery_point': 'Insituttveien 18', 'address_city': 'Kjeller', 'administrative_area': 'Viken', 'postal_code': 2007, 'email': 'some.name@email.com', 'position_name': 'Senior Scientist'}], 'datestamp': '2019-11-20T07:45:17.0000000Z'}}, {'md_keywords': {'keywords': ['NO0042G', 'Zeppelin mountain (Ny-Ålesund)', 'pm10', 'particle_number_size_distribution', 'GAW-WDCA', 'ACTRIS', 'EMEP', 'NILU']}, 'md_metadata': {'id': 274, 'file_identifier': 'EBAS24020914123', 'language': 'en', 'hierarchy_level': 'dataset', 'online_resource': {'linkage': 'https://www.nilu.no/'}, 'contact': [{'first_name': 'Richard Olav', 'last_name': 'Rud', 'organisation_name': 'Norwegian Institute for Air Research', 'role_code': ['custodian'], 'country': 'Norway', 'delivery_point': 'Insituttveien 18', 'address_city': 'Kjeller', 'administrative_area': 'Viken', 'postal_code': 2007, 'email': 'some.name@email.com', 'position_name': 'Senior Scientist'}], 'datestamp': '2019-11-20T07:45:17.0000000Z'}}, {'md_keywords': {'keywords': ['NO0042G', 'Zeppelin mountain (Ny-Ålesund)', 'pm10', 'particle_number_size_distribution', 'GAW-WDCA', 'ACTRIS', 'EMEP', 'NILU']}, 'md_metadata': {'id': 276, 'file_identifier': 'EBAS24020914123', 'language': 'en', 'hierarchy_level': 'dataset', 'online_resource': {'linkage': 'https://www.nilu.no/'}, 'contact': [{'first_name': 'Richard Olav', 'last_name': 'Rud', 'organisation_name': 'Norwegian Institute for Air Research', 'role_code': ['custodian'], 'country': 'Norway', 'delivery_point': 'Insituttveien 18', 'address_city': 'Kjeller', 'administrative_area': 'Viken', 'postal_code': 2007, 'email': 'some.name@email.com', 'position_name': 'Senior Scientist'}], 'datestamp': '2019-11-20T07:45:17.0000000Z'}}, {'md_keywords': {'keywords': ['NO0042G', 'Zeppelin mountain (Ny-Ålesund)', 'pm10', 'particle_number_size_distribution', 'GAW-WDCA', 'ACTRIS', 'EMEP', 'NILU']}, 'md_metadata': {'id': 277, 'file_identifier': 'EBAS24020914123', 'language': 'en', 'hierarchy_level': 'dataset', 'online_resource': {'linkage': 'https://www.nilu.no/'}, 'contact': [{'first_name': 'Richard Olav', 'last_name': 'Rud', 'organisation_name': 'Norwegian Institute for Air Research', 'role_code': ['custodian'], 'country': 'Norway', 'delivery_point': 'Insituttveien 18', 'address_city': 'Kjeller', 'administrative_area': 'Viken', 'postal_code': 2007, 'email': 'some.name@email.com', 'position_name': 'Senior Scientist'}], 'datestamp': '2019-11-20T07:45:17.0000000Z'}}, {'md_keywords': {'keywords': ['NO0042G,', 'Zeppelin', 'mountain', '(Ny-Ålesund),', 'pm10,', 'particle_number_size_distribution,', 'GAW-WDCA,', 'ACTRIS,', 'EMEP,', 'NILU']}, 'md_metadata': {'id': 286, 'file_identifier': 'NO0042G.20180101000000.20190508191242.dmps.particle_number_size_distribution.pm10.1y.1h.NO01L_NILU_DMPSmodel2_ZEP.NO01L_dmps_DMPS_ZEP01.lev2.nc', 'language': 'en', 'hierarchy_level': 'dataset', 'online_resource': {'linkage': 'https://www.nilu.no/'}, 'contact': [{'first_name': 'Markus', 'last_name': 'Fiebig', 'organisation_name': 'Norwegian Institute for Air Research (NILU)', 'role_code': ['custodian'], 'country': 'Norway', 'delivery_point': 'Insituttveien 18', 'address_city': 'Kjeller', 'administrative_area': 'Viken', 'postal_code': 2007, 'email': 'ebas@nilu.no', 'position_name': 'Senior Scientist'}], 'datestamp': '2019-05-08T17:12:42.0000000Z'}}, {'md_keywords': {'keywords': ['NO0042G,', 'Zeppelin', 'mountain', '(Ny-Ålesund),', 'pm10,', 'particle_number_size_distribution,', 'GAW-WDCA,', 'ACTRIS,', 'EMEP,', 'NILU']}, 'md_metadata': {'id': 287, 'file_identifier': 'NO0042G.20180101000000.20190508191242.dmps.particle_number_size_distribution.pm10.1y.1h.NO01L_NILU_DMPSmodel2_ZEP.NO01L_dmps_DMPS_ZEP01.lev2.nc', 'language': 'en', 'hierarchy_level': 'dataset', 'online_resource': {'linkage': 'https://www.nilu.no/'}, 'contact': [{'first_name': 'Markus', 'last_name': 'Fiebig', 'organisation_name': 'Norwegian Institute for Air Research (NILU)', 'role_code': ['custodian'], 'country': 'Norway', 'delivery_point': 'Insituttveien 18', 'address_city': 'Kjeller', 'administrative_area': 'Viken', 'postal_code': 2007, 'email': 'ebas@nilu.no', 'position_name': 'Senior Scientist'}], 'datestamp': '2019-05-08T17:12:42.0000000Z'}}, {'md_keywords': {'keywords': ['NO0042G,', 'Zeppelin', 'mountain', '(Ny-Ålesund),', 'pm10,', 'particle_number_size_distribution,', 'GAW-WDCA,', 'ACTRIS,', 'EMEP,', 'NILU']}, 'md_metadata': {'id': 288, 'file_identifier': 'NO0042G.20180101000000.20190508191242.dmps.particle_number_size_distribution.pm10.1y.1h.NO01L_NILU_DMPSmodel2_ZEP.NO01L_dmps_DMPS_ZEP01.lev2.nc', 'language': 'en', 'hierarchy_level': 'dataset', 'online_resource': {'linkage': 'https://www.nilu.no/'}, 'contact': [{'first_name': 'Markus', 'last_name': 'Fiebig', 'organisation_name': 'Norwegian Institute for Air Research (NILU)', 'role_code': ['custodian'], 'country': 'Norway', 'delivery_point': 'Insituttveien 18', 'address_city': 'Kjeller', 'administrative_area': 'Viken', 'postal_code': 2007, 'email': 'ebas@nilu.no', 'position_name': 'Senior Scientist'}], 'datestamp': '2019-05-08T17:12:42.0000000Z'}}, {'md_keywords': {'keywords': ['NO0042G,', 'Zeppelin', 'mountain', '(Ny-Ålesund),', 'pm10,', 'particle_number_size_distribution,', 'GAW-WDCA,', 'ACTRIS,', 'EMEP,', 'NILU']}, 'md_metadata': {'id': 290, 'file_identifier': 'NO0042G.20180101000000.20190508191242.dmps.particle_number_size_distribution.pm10.1y.1h.NO01L_NILU_DMPSmodel2_ZEP.NO01L_dmps_DMPS_ZEP01.lev2.nc', 'language': 'en', 'hierarchy_level': 'dataset', 'online_resource': {'linkage': 'https://www.nilu.no/'}, 'contact': [{'first_name': 'Markus', 'last_name': 'Fiebig', 'organisation_name': 'Norwegian Institute for Air Research (NILU)', 'role_code': ['custodian'], 'country': 'Norway', 'delivery_point': 'Insituttveien 18', 'address_city': 'Kjeller', 'administrative_area': 'Viken', 'postal_code': 2007, 'email': 'ebas@nilu.no', 'position_name': 'Senior Scientist'}], 'datestamp': '2019-05-08T17:12:42.0000000Z'}}, {'md_keywords': {'keywords': ['NO0042G,', 'Zeppelin', 'mountain', '(Ny-Ålesund),', 'pm10,', 'particle_number_size_distribution,', 'GAW-WDCA,', 'ACTRIS,', 'EMEP,', 'NILU']}, 'md_metadata': {'id': 291, 'file_identifier': 'NO0042G.20180101000000.20190508191242.dmps.particle_number_size_distribution.pm10.1y.1h.NO01L_NILU_DMPSmodel2_ZEP.NO01L_dmps_DMPS_ZEP01.lev2.nc', 'language': 'en', 'hierarchy_level': 'dataset', 'online_resource': {'linkage': 'https://www.nilu.no/'}, 'contact': [{'first_name': 'Markus', 'last_name': 'Fiebig', 'organisation_name': 'Norwegian Institute for Air Research (NILU)', 'role_code': ['custodian'], 'country': 'Norway', 'delivery_point': 'Insituttveien 18', 'address_city': 'Kjeller', 'administrative_area': 'Viken', 'postal_code': 2007, 'email': 'ebas@nilu.no', 'position_name': 'Senior Scientist'}], 'datestamp': '2019-05-08T17:12:42.0000000Z'}}, {'md_keywords': {'keywords': ['NO0042G,', 'Zeppelin', 'mountain', '(Ny-Ålesund),', 'pm10,', 'particle_number_size_distribution,', 'GAW-WDCA,', 'ACTRIS,', 'EMEP,', 'NILU']}, 'md_metadata': {'id': 292, 'file_identifier': 'NO0042G.20180101000000.20190508191242.dmps.particle_number_size_distribution.pm10.1y.1h.NO01L_NILU_DMPSmodel2_ZEP.NO01L_dmps_DMPS_ZEP01.lev2.nc', 'language': 'en', 'hierarchy_level': 'dataset', 'online_resource': {'linkage': 'https://www.nilu.no/'}, 'contact': [{'first_name': 'Markus', 'last_name': 'Fiebig', 'organisation_name': 'Norwegian Institute for Air Research (NILU)', 'role_code': ['custodian'], 'country': 'Norway', 'delivery_point': 'Insituttveien 18', 'address_city': 'Kjeller', 'administrative_area': 'Viken', 'postal_code': 2007, 'email': 'ebas@nilu.no', 'position_name': 'Senior Scientist'}], 'datestamp': '2019-05-08T17:12:42.0000000Z'}}, {'md_keywords': {'keywords': ['NO0042G,', 'Zeppelin', 'mountain', '(Ny-Ålesund),', 'pm10,', 'particle_number_size_distribution,', 'GAW-WDCA,', 'ACTRIS,', 'EMEP,', 'NILU']}, 'md_metadata': {'id': 293, 'file_identifier': 'NO0042G.20180101000000.20190508191242.dmps.particle_number_size_distribution.pm10.1y.1h.NO01L_NILU_DMPSmodel2_ZEP.NO01L_dmps_DMPS_ZEP01.lev2.nc', 'language': 'en', 'hierarchy_level': 'dataset', 'online_resource': {'linkage': 'https://www.nilu.no/'}, 'contact': [{'first_name': 'Markus', 'last_name': 'Fiebig', 'organisation_name': 'Norwegian Institute for Air Research (NILU)', 'role_code': ['custodian'], 'country': 'Norway', 'delivery_point': 'Insituttveien 18', 'address_city': 'Kjeller', 'administrative_area': 'Viken', 'postal_code': 2007, 'email': 'ebas@nilu.no', 'position_name': 'Senior Scientist'}], 'datestamp': '2019-05-08T17:12:42.0000000Z'}}, {'md_keywords': {'keywords': ['NO0042G,', 'Zeppelin', 'mountain', '(Ny-Ålesund),', 'pm10,', 'particle_number_size_distribution,', 'GAW-WDCA,', 'ACTRIS,', 'EMEP,', 'NILU']}, 'md_metadata': {'id': 294, 'file_identifier': 'NO0042G.20180101000000.20190508191242.dmps.particle_number_size_distribution.pm10.1y.1h.NO01L_NILU_DMPSmodel2_ZEP.NO01L_dmps_DMPS_ZEP01.lev2.nc', 'language': 'en', 'hierarchy_level': 'dataset', 'online_resource': {'linkage': 'https://www.nilu.no/'}, 'contact': [{'first_name': 'Markus', 'last_name': 'Fiebig', 'organisation_name': 'Norwegian Institute for Air Research (NILU)', 'role_code': ['custodian'], 'country': 'Norway', 'delivery_point': 'Insituttveien 18', 'address_city': 'Kjeller', 'administrative_area': 'Viken', 'postal_code': 2007, 'email': 'ebas@nilu.no', 'position_name': 'Senior Scientist'}], 'datestamp': '2019-05-08T17:12:42.0000000Z'}}, {'md_keywords': {'keywords': ['NO0042G,', 'Zeppelin', 'mountain', '(Ny-Ålesund),', 'pm10,', 'particle_number_size_distribution,', 'GAW-WDCA,', 'ACTRIS,', 'EMEP,', 'NILU']}, 'md_metadata': {'id': 295, 'file_identifier': 'NO0042G.20180101000000.20190508191242.dmps.particle_number_size_distribution.pm10.1y.1h.NO01L_NILU_DMPSmodel2_ZEP.NO01L_dmps_DMPS_ZEP01.lev2.nc', 'language': 'en', 'hierarchy_level': 'dataset', 'online_resource': {'linkage': 'https://www.nilu.no/'}, 'contact': [{'first_name': 'Markus', 'last_name': 'Fiebig', 'organisation_name': 'Norwegian Institute for Air Research (NILU)', 'role_code': ['custodian'], 'country': 'Norway', 'delivery_point': 'Insituttveien 18', 'address_city': 'Kjeller', 'administrative_area': 'Viken', 'postal_code': 2007, 'email': 'ebas@nilu.no', 'position_name': 'Senior Scientist'}], 'datestamp': '2019-05-08T17:12:42.0000000Z'}}, {'md_keywords': {'keywords': ['NO0042G,', 'Zeppelin', 'mountain', '(Ny-Ålesund),', 'pm10,', 'particle_number_size_distribution,', 'GAW-WDCA,', 'ACTRIS,', 'EMEP,', 'NILU']}, 'md_metadata': {'id': 296, 'file_identifier': 'NO0042G.20180101000000.20190508191242.dmps.particle_number_size_distribution.pm10.1y.1h.NO01L_NILU_DMPSmodel2_ZEP.NO01L_dmps_DMPS_ZEP01.lev2.nc', 'language': 'en', 'hierarchy_level': 'dataset', 'online_resource': {'linkage': 'https://www.nilu.no/'}, 'contact': [{'first_name': 'Markus', 'last_name': 'Fiebig', 'organisation_name': 'Norwegian Institute for Air Research (NILU)', 'role_code': ['custodian'], 'country': 'Norway', 'delivery_point': 'Insituttveien 18', 'address_city': 'Kjeller', 'administrative_area': 'Viken', 'postal_code': 2007, 'email': 'ebas@nilu.no', 'position_name': 'Senior Scientist'}], 'datestamp': '2019-05-08T17:12:42.0000000Z'}}, {'md_keywords': {'keywords': ['NO0042G,', 'Zeppelin', 'mountain', '(Ny-Ålesund),', 'pm10,', 'particle_number_size_distribution,', 'GAW-WDCA,', 'ACTRIS,', 'EMEP,', 'NILU']}, 'md_metadata': {'id': 297, 'file_identifier': 'NO0042G.20180101000000.20190508191242.dmps.particle_number_size_distribution.pm10.1y.1h.NO01L_NILU_DMPSmodel2_ZEP.NO01L_dmps_DMPS_ZEP01.lev2.nc', 'language': 'en', 'hierarchy_level': 'dataset', 'online_resource': {'linkage': 'https://www.nilu.no/'}, 'contact': [{'first_name': 'Markus', 'last_name': 'Fiebig', 'organisation_name': 'Norwegian Institute for Air Research (NILU)', 'role_code': ['custodian'], 'country': 'Norway', 'delivery_point': 'Insituttveien 18', 'address_city': 'Kjeller', 'administrative_area': 'Viken', 'postal_code': 2007, 'email': 'ebas@nilu.no', 'position_name': 'Senior Scientist'}], 'datestamp': '2019-05-08T17:12:42.0000000Z'}}, {'md_keywords': {'keywords': ['NO0042G,', 'Zeppelin', 'mountain', '(Ny-Ålesund),', 'pm10,', 'particle_number_size_distribution,', 'GAW-WDCA,', 'ACTRIS,', 'EMEP,', 'NILU']}, 'md_metadata': {'id': 298, 'file_identifier': 'NO0042G.20180101000000.20190508191242.dmps.particle_number_size_distribution.pm10.1y.1h.NO01L_NILU_DMPSmodel2_ZEP.NO01L_dmps_DMPS_ZEP01.lev2.nc', 'language': 'en', 'hierarchy_level': 'dataset', 'online_resource': {'linkage': 'https://www.nilu.no/'}, 'contact': [{'first_name': 'Markus', 'last_name': 'Fiebig', 'organisation_name': 'Norwegian Institute for Air Research (NILU)', 'role_code': ['custodian'], 'country': 'Norway', 'delivery_point': 'Insituttveien 18', 'address_city': 'Kjeller', 'administrative_area': 'Viken', 'postal_code': 2007, 'email': 'ebas@nilu.no', 'position_name': 'Senior Scientist'}], 'datestamp': '2019-05-08T17:12:42.0000000Z'}}, {'md_keywords': {'keywords': ['NO0042G,', 'Zeppelin', 'mountain', '(Ny-Ålesund),', 'pm10,', 'particle_number_size_distribution,', 'GAW-WDCA,', 'ACTRIS,', 'EMEP,', 'NILU']}, 'md_metadata': {'id': 299, 'file_identifier': 'NO0042G.20180101000000.20190508191242.dmps.particle_number_size_distribution.pm10.1y.1h.NO01L_NILU_DMPSmodel2_ZEP.NO01L_dmps_DMPS_ZEP01.lev2.nc', 'language': 'en', 'hierarchy_level': 'dataset', 'online_resource': {'linkage': 'https://www.nilu.no/'}, 'contact': [{'first_name': 'Markus', 'last_name': 'Fiebig', 'organisation_name': 'Norwegian Institute for Air Research (NILU)', 'role_code': ['custodian'], 'country': 'Norway', 'delivery_point': 'Insituttveien 18', 'address_city': 'Kjeller', 'administrative_area': 'Viken', 'postal_code': 2007, 'email': 'ebas@nilu.no', 'position_name': 'Senior Scientist'}], 'datestamp': '2019-05-08T17:12:42.0000000Z'}}, {'md_keywords': {'keywords': ['NO0042G,', 'Zeppelin', 'mountain', '(Ny-Ålesund),', 'pm10,', 'particle_number_size_distribution,', 'GAW-WDCA,', 'ACTRIS,', 'EMEP,', 'NILU']}, 'md_metadata': {'id': 300, 'file_identifier': 'NO0042G.20180101000000.20190508191242.dmps.particle_number_size_distribution.pm10.1y.1h.NO01L_NILU_DMPSmodel2_ZEP.NO01L_dmps_DMPS_ZEP01.lev2.nc', 'language': 'en', 'hierarchy_level': 'dataset', 'online_resource': {'linkage': 'https://www.nilu.no/'}, 'contact': [{'first_name': 'Markus', 'last_name': 'Fiebig', 'organisation_name': 'Norwegian Institute for Air Research (NILU)', 'role_code': ['custodian'], 'country': 'Norway', 'delivery_point': 'Insituttveien 18', 'address_city': 'Kjeller', 'administrative_area': 'Viken', 'postal_code': 2007, 'email': 'ebas@nilu.no', 'position_name': 'Senior Scientist'}], 'datestamp': '2019-05-08T17:12:42.0000000Z'}}, {'md_keywords': {'keywords': ['NO0042G,', 'Zeppelin', 'mountain', '(Ny-Ålesund),', 'pm10,', 'particle_number_size_distribution,', 'GAW-WDCA,', 'ACTRIS,', 'EMEP,', 'NILU']}, 'md_metadata': {'id': 301, 'file_identifier': 'NO0042G.20180101000000.20190508191242.dmps.particle_number_size_distribution.pm10.1y.1h.NO01L_NILU_DMPSmodel2_ZEP.NO01L_dmps_DMPS_ZEP01.lev2.nc', 'language': 'en', 'hierarchy_level': 'dataset', 'online_resource': {'linkage': 'https://www.nilu.no/'}, 'contact': [{'first_name': 'Markus', 'last_name': 'Fiebig', 'organisation_name': 'Norwegian Institute for Air Research (NILU)', 'role_code': ['custodian'], 'country': 'Norway', 'delivery_point': 'Insituttveien 18', 'address_city': 'Kjeller', 'administrative_area': 'Viken', 'postal_code': 2007, 'email': 'ebas@nilu.no', 'position_name': 'Senior Scientist'}], 'datestamp': '2019-05-08T17:12:42.0000000Z'}}, {'md_keywords': {'keywords': ['NO0042G,', 'Zeppelin', 'mountain', '(Ny-Ålesund),', 'pm10,', 'particle_number_size_distribution,', 'GAW-WDCA,', 'ACTRIS,', 'EMEP,', 'NILU']}, 'md_metadata': {'id': 302, 'file_identifier': 'NO0042G.20180101000000.20190508191242.dmps.particle_number_size_distribution.pm10.1y.1h.NO01L_NILU_DMPSmodel2_ZEP.NO01L_dmps_DMPS_ZEP01.lev2.nc', 'language': 'en', 'hierarchy_level': 'dataset', 'online_resource': {'linkage': 'https://www.nilu.no/'}, 'contact': [{'first_name': 'Markus', 'last_name': 'Fiebig', 'organisation_name': 'Norwegian Institute for Air Research (NILU)', 'role_code': ['custodian'], 'country': 'Norway', 'delivery_point': 'Insituttveien 18', 'address_city': 'Kjeller', 'administrative_area': 'Viken', 'postal_code': 2007, 'email': 'ebas@nilu.no', 'position_name': 'Senior Scientist'}], 'datestamp': '2019-05-08T17:12:42.0000000Z'}}, {'md_keywords': {'keywords': ['NO0042G,', 'Zeppelin', 'mountain', '(Ny-Ålesund),', 'pm10,', 'particle_number_size_distribution,', 'GAW-WDCA,', 'ACTRIS,', 'EMEP,', 'NILU']}, 'md_metadata': {'id': 303, 'file_identifier': 'NO0042G.20180101000000.20190508191242.dmps.particle_number_size_distribution.pm10.1y.1h.NO01L_NILU_DMPSmodel2_ZEP.NO01L_dmps_DMPS_ZEP01.lev2.nc', 'language': 'en', 'hierarchy_level': 'dataset', 'online_resource': {'linkage': 'https://www.nilu.no/'}, 'contact': [{'first_name': 'Markus', 'last_name': 'Fiebig', 'organisation_name': 'Norwegian Institute for Air Research (NILU)', 'role_code': ['custodian'], 'country': 'Norway', 'delivery_point': 'Insituttveien 18', 'address_city': 'Kjeller', 'administrative_area': 'Viken', 'postal_code': 2007, 'email': 'ebas@nilu.no', 'position_name': 'Senior Scientist'}], 'datestamp': '2019-05-08T17:12:42.0000000Z'}}, {'md_keywords': {'keywords': ['NO0042G,', 'Zeppelin', 'mountain', '(Ny-Ålesund),', 'pm10,', 'particle_number_size_distribution,', 'GAW-WDCA,', 'ACTRIS,', 'EMEP,', 'NILU']}, 'md_metadata': {'id': 304, 'file_identifier': 'NO0042G.20180101000000.20190508191242.dmps.particle_number_size_distribution.pm10.1y.1h.NO01L_NILU_DMPSmodel2_ZEP.NO01L_dmps_DMPS_ZEP01.lev2.nc', 'language': 'en', 'hierarchy_level': 'dataset', 'online_resource': {'linkage': 'https://www.nilu.no/'}, 'contact': [{'first_name': 'Markus', 'last_name': 'Fiebig', 'organisation_name': 'Norwegian Institute for Air Research (NILU)', 'role_code': ['custodian'], 'country': 'Norway', 'delivery_point': 'Insituttveien 18', 'address_city': 'Kjeller', 'administrative_area': 'Viken', 'postal_code': 2007, 'email': 'ebas@nilu.no', 'position_name': 'Senior Scientist'}], 'datestamp': '2019-05-08T17:12:42.0000000Z'}}, {'md_keywords': {'keywords': ['NO0042G,', 'Zeppelin', 'mountain', '(Ny-Ålesund),', 'pm10,', 'particle_number_size_distribution,', 'GAW-WDCA,', 'ACTRIS,', 'EMEP,', 'NILU']}, 'md_metadata': {'id': 305, 'file_identifier': 'NO0042G.20180101000000.20190508191242.dmps.particle_number_size_distribution.pm10.1y.1h.NO01L_NILU_DMPSmodel2_ZEP.NO01L_dmps_DMPS_ZEP01.lev2.nc', 'language': 'en', 'hierarchy_level': 'dataset', 'online_resource': {'linkage': 'https://www.nilu.no/'}, 'contact': [{'first_name': 'Markus', 'last_name': 'Fiebig', 'organisation_name': 'Norwegian Institute for Air Research (NILU)', 'role_code': ['custodian'], 'country': 'Norway', 'delivery_point': 'Insituttveien 18', 'address_city': 'Kjeller', 'administrative_area': 'Viken', 'postal_code': 2007, 'email': 'ebas@nilu.no', 'position_name': 'Senior Scientist'}], 'datestamp': '2019-05-08T17:12:42.0000000Z'}}, {'md_keywords': {'keywords': ['NO0042G,', 'Zeppelin', 'mountain', '(Ny-Ålesund),', 'pm10,', 'particle_number_size_distribution,', 'GAW-WDCA,', 'ACTRIS,', 'EMEP,', 'NILU']}, 'md_metadata': {'id': 306, 'file_identifier': 'NO0042G.20180101000000.20190508191242.dmps.particle_number_size_distribution.pm10.1y.1h.NO01L_NILU_DMPSmodel2_ZEP.NO01L_dmps_DMPS_ZEP01.lev2.nc', 'language': 'en', 'hierarchy_level': 'dataset', 'online_resource': {'linkage': 'https://www.nilu.no/'}, 'contact': [{'first_name': 'Markus', 'last_name': 'Fiebig', 'organisation_name': 'Norwegian Institute for Air Research (NILU)', 'role_code': ['custodian'], 'country': 'Norway', 'delivery_point': 'Insituttveien 18', 'address_city': 'Kjeller', 'administrative_area': 'Viken', 'postal_code': 2007, 'email': 'ebas@nilu.no', 'position_name': 'Senior Scientist'}], 'datestamp': '2019-05-08T17:12:42.0000000Z'}}, {'md_keywords': {'keywords': ['NO0042G,', 'Zeppelin', 'mountain', '(Ny-Ålesund),', 'pm10,', 'particle_number_size_distribution,', 'GAW-WDCA,', 'ACTRIS,', 'EMEP,', 'NILU']}, 'md_metadata': {'id': 310, 'file_identifier': 'NO0042G.20180101000000.20190508191242.dmps.particle_number_size_distribution.pm10.1y.1h.NO01L_NILU_DMPSmodel2_ZEP.NO01L_dmps_DMPS_ZEP01.lev2.nc', 'language': 'en', 'hierarchy_level': 'dataset', 'online_resource': {'linkage': 'https://www.nilu.no/'}, 'contact': [{'first_name': 'Markus', 'last_name': 'Fiebig', 'organisation_name': 'Norwegian Institute for Air Research (NILU)', 'role_code': ['custodian'], 'country': 'Norway', 'delivery_point': 'Insituttveien 18', 'address_city': 'Kjeller', 'administrative_area': 'Viken', 'postal_code': 2007, 'email': 'ebas@nilu.no', 'position_name': 'Senior Scientist'}], 'datestamp': '2019-05-08T17:12:42.0000000Z'}}, {'md_keywords': {'keywords': ['NO0042G,', 'Zeppelin', 'mountain', '(Ny-Ålesund),', 'pm10,', 'particle_number_size_distribution,', 'GAW-WDCA,', 'ACTRIS,', 'EMEP,', 'NILU']}, 'md_metadata': {'id': 314, 'file_identifier': 'NO0042G.20180101000000.20190508191242.dmps.particle_number_size_distribution.pm10.1y.1h.NO01L_NILU_DMPSmodel2_ZEP.NO01L_dmps_DMPS_ZEP01.lev2.nc', 'language': 'en', 'hierarchy_level': 'dataset', 'online_resource': {'linkage': 'https://www.nilu.no/'}, 'contact': [{'first_name': 'Markus', 'last_name': 'Fiebig', 'organisation_name': 'Norwegian Institute for Air Research (NILU)', 'role_code': ['custodian'], 'country': 'Norway', 'delivery_point': 'Insituttveien 18', 'address_city': 'Kjeller', 'administrative_area': 'Viken', 'postal_code': 2007, 'email': 'ebas@nilu.no', 'position_name': 'Senior Scientist'}], 'datestamp': '2019-05-08T17:12:42.0000000Z'}}, {'md_keywords': {'keywords': ['NO0042G,', 'Zeppelin', 'mountain', '(Ny-Ålesund),', 'pm10,', 'particle_number_size_distribution,', 'GAW-WDCA,', 'ACTRIS,', 'EMEP,', 'NILU']}, 'md_metadata': {'id': 315, 'file_identifier': 'NO0042G.20180101000000.20190508191242.dmps.particle_number_size_distribution.pm10.1y.1h.NO01L_NILU_DMPSmodel2_ZEP.NO01L_dmps_DMPS_ZEP01.lev2.nc', 'language': 'en', 'hierarchy_level': 'dataset', 'online_resource': {'linkage': 'https://www.nilu.no/'}, 'contact': [{'first_name': 'Markus', 'last_name': 'Fiebig', 'organisation_name': 'Norwegian Institute for Air Research (NILU)', 'role_code': ['custodian'], 'country': 'Norway', 'delivery_point': 'Insituttveien 18', 'address_city': 'Kjeller', 'administrative_area': 'Viken', 'postal_code': 2007, 'email': 'ebas@nilu.no', 'position_name': 'Senior Scientist'}], 'datestamp': '2019-05-08T17:12:42.0000000Z'}}, {'md_keywords': {'keywords': ['NO0042G,', 'Zeppelin', 'mountain', '(Ny-Ålesund),', 'pm10,', 'particle_number_size_distribution,', 'GAW-WDCA,', 'ACTRIS,', 'EMEP,', 'NILU']}, 'md_metadata': {'id': 317, 'file_identifier': 'NO0042G.20180101000000.20190508191242.dmps.particle_number_size_distribution.pm10.1y.1h.NO01L_NILU_DMPSmodel2_ZEP.NO01L_dmps_DMPS_ZEP01.lev2.nc', 'language': 'en', 'hierarchy_level': 'dataset', 'online_resource': {'linkage': 'https://www.nilu.no/'}, 'contact': [{'first_name': 'Markus', 'last_name': 'Fiebig', 'organisation_name': 'Norwegian Institute for Air Research (NILU)', 'role_code': ['custodian'], 'country': 'Norway', 'delivery_point': 'Insituttveien 18', 'address_city': 'Kjeller', 'administrative_area': 'Viken', 'postal_code': 2007, 'email': 'ebas@nilu.no', 'position_name': 'Senior Scientist'}], 'datestamp': '2019-05-08T17:12:42.0000000Z'}}, {'md_keywords': {'keywords': ['NO0042G,', 'Zeppelin', 'mountain', '(Ny-Ålesund),', 'pm10,', 'particle_number_size_distribution,', 'GAW-WDCA,', 'ACTRIS,', 'EMEP,', 'NILU']}, 'md_metadata': {'id': 318, 'file_identifier': 'NO0042G.20180101000000.20190508191242.dmps.particle_number_size_distribution.pm10.1y.1h.NO01L_NILU_DMPSmodel2_ZEP.NO01L_dmps_DMPS_ZEP01.lev2.nc', 'language': 'en', 'hierarchy_level': 'dataset', 'online_resource': {'linkage': 'https://www.nilu.no/'}, 'contact': [{'first_name': 'Markus', 'last_name': 'Fiebig', 'organisation_name': 'Norwegian Institute for Air Research (NILU)', 'role_code': ['custodian'], 'country': 'Norway', 'delivery_point': 'Insituttveien 18', 'address_city': 'Kjeller', 'administrative_area': 'Viken', 'postal_code': 2007, 'email': 'ebas@nilu.no', 'position_name': 'Senior Scientist'}], 'datestamp': '2019-05-08T17:12:42.0000000Z'}}, {'md_keywords': {'keywords': ['IT0004R,', 'pm10,', 'particle_number_size_distribution,', 'GAW-WDCA,', 'Ispra,', 'ACTRIS,', 'EMEP']}, 'md_metadata': {'id': 319, 'file_identifier': 'IT0004R.20160101000000.20170426000000.dmps.particle_number_size_distribution.pm10.1y.1h.IT04L_Ispra-B.IT04L_DMPS_Ispra-B.lev2.nc', 'language': 'en', 'hierarchy_level': 'dataset', 'online_resource': {'linkage': 'https://www.nilu.no/'}, 'contact': [{'first_name': 'Markus', 'last_name': 'Fiebig', 'organisation_name': 'Norwegian Institute for Air Research (NILU)', 'role_code': ['custodian'], 'country': 'Norway', 'delivery_point': 'Insituttveien 18', 'address_city': 'Kjeller', 'administrative_area': 'Viken', 'postal_code': 2007, 'email': 'ebas@nilu.no', 'position_name': 'Senior Scientist'}], 'datestamp': '2017-04-25T22:00:00.0000000Z'}}, {'md_keywords': {'keywords': ['NO0042G,', 'Zeppelin', 'mountain', '(Ny-Ålesund),', 'pm10,', 'particle_number_size_distribution,', 'GAW-WDCA,', 'ACTRIS,', 'EMEP,', 'NILU']}, 'md_metadata': {'id': 320, 'file_identifier': 'NO0042G.20180101000000.20190508191242.dmps.particle_number_size_distribution.pm10.1y.1h.NO01L_NILU_DMPSmodel2_ZEP.NO01L_dmps_DMPS_ZEP01.lev2.nc', 'language': 'en', 'hierarchy_level': 'dataset', 'online_resource': {'linkage': 'https://www.nilu.no/'}, 'contact': [{'first_name': 'Markus', 'last_name': 'Fiebig', 'organisation_name': 'Norwegian Institute for Air Research (NILU)', 'role_code': ['custodian'], 'country': 'Norway', 'delivery_point': 'Insituttveien 18', 'address_city': 'Kjeller', 'administrative_area': 'Viken', 'postal_code': 2007, 'email': 'ebas@nilu.no', 'position_name': 'Senior Scientist'}], 'datestamp': '2019-05-08T17:12:42.0000000Z'}}, {'md_keywords': {'keywords': ['NO0042G,', 'Zeppelin', 'mountain', '(Ny-Ålesund),', 'pm10,', 'particle_number_size_distribution,', 'GAW-WDCA,', 'ACTRIS,', 'EMEP,', 'NILU']}, 'md_metadata': {'id': 321, 'file_identifier': 'NO0042G.20180101000000.20190508191242.dmps.particle_number_size_distribution.pm10.1y.1h.NO01L_NILU_DMPSmodel2_ZEP.NO01L_dmps_DMPS_ZEP01.lev2.nc', 'language': 'en', 'hierarchy_level': 'dataset', 'online_resource': {'linkage': 'https://www.nilu.no/'}, 'contact': [{'first_name': 'Markus', 'last_name': 'Fiebig', 'organisation_name': 'Norwegian Institute for Air Research (NILU)', 'role_code': ['custodian'], 'country': 'Norway', 'delivery_point': 'Insituttveien 18', 'address_city': 'Kjeller', 'administrative_area': 'Viken', 'postal_code': 2007, 'email': 'ebas@nilu.no', 'position_name': 'Senior Scientist'}], 'datestamp': '2019-05-08T17:12:42.0000000Z'}}, {'md_keywords': {'keywords': ['NO0042G,', 'Zeppelin', 'mountain', '(Ny-Ålesund),', 'pm10,', 'particle_number_size_distribution,', 'GAW-WDCA,', 'ACTRIS,', 'EMEP,', 'NILU']}, 'md_metadata': {'id': 322, 'file_identifier': 'NO0042G.20180101000000.20190508191242.dmps.particle_number_size_distribution.pm10.1y.1h.NO01L_NILU_DMPSmodel2_ZEP.NO01L_dmps_DMPS_ZEP01.lev2.nc', 'language': 'en', 'hierarchy_level': 'dataset', 'online_resource': {'linkage': 'https://www.nilu.no/'}, 'contact': [{'first_name': 'Markus', 'last_name': 'Fiebig', 'organisation_name': 'Norwegian Institute for Air Research (NILU)', 'role_code': ['custodian'], 'country': 'Norway', 'delivery_point': 'Insituttveien 18', 'address_city': 'Kjeller', 'administrative_area': 'Viken', 'postal_code': 2007, 'email': 'ebas@nilu.no', 'position_name': 'Senior Scientist'}], 'datestamp': '2019-05-08T17:12:42.0000000Z'}}, {'md_keywords': {'keywords': ['NO0042G,', 'Zeppelin', 'mountain', '(Ny-Ålesund),', 'pm10,', 'particle_number_size_distribution,', 'GAW-WDCA,', 'ACTRIS,', 'EMEP,', 'NILU']}, 'md_metadata': {'id': 323, 'file_identifier': 'NO0042G.20180101000000.20190508191242.dmps.particle_number_size_distribution.pm10.1y.1h.NO01L_NILU_DMPSmodel2_ZEP.NO01L_dmps_DMPS_ZEP01.lev2.nc', 'language': 'en', 'hierarchy_level': 'dataset', 'online_resource': {'linkage': 'https://www.nilu.no/'}, 'contact': [{'first_name': 'Markus', 'last_name': 'Fiebig', 'organisation_name': 'Norwegian Institute for Air Research (NILU)', 'role_code': ['custodian'], 'country': 'Norway', 'delivery_point': 'Insituttveien 18', 'address_city': 'Kjeller', 'administrative_area': 'Viken', 'postal_code': 2007, 'email': 'ebas@nilu.no', 'position_name': 'Senior Scientist'}], 'datestamp': '2019-05-08T17:12:42.0000000Z'}}, {'md_keywords': {'keywords': ['IT0004R,', 'pm10,', 'particle_number_size_distribution,', 'GAW-WDCA,', 'Ispra,', 'ACTRIS,', 'EMEP']}, 'md_metadata': {'id': 324, 'file_identifier': 'IT0004R.20160101000000.20170426000000.dmps.particle_number_size_distribution.pm10.1y.1h.IT04L_Ispra-B.IT04L_DMPS_Ispra-B.lev2.nc', 'language': 'en', 'hierarchy_level': 'dataset', 'online_resource': {'linkage': 'https://www.nilu.no/'}, 'contact': [{'first_name': 'Markus', 'last_name': 'Fiebig', 'organisation_name': 'Norwegian Institute for Air Research (NILU)', 'role_code': ['custodian'], 'country': 'Italy', 'delivery_point': 'Insituttveien 18', 'address_city': 'Kjeller', 'administrative_area': 'Viken', 'postal_code': 2007, 'email': 'ebas@nilu.no', 'position_name': 'Senior Scientist'}], 'datestamp': '2017-04-25T22:00:00.0000000Z'}}, {'md_keywords': {'keywords': ['NO0042G,', 'Zeppelin', 'mountain', '(Ny-Ålesund),', 'pm10,', 'particle_number_size_distribution,', 'GAW-WDCA,', 'ACTRIS,', 'EMEP,', 'NILU']}, 'md_metadata': {'id': 325, 'file_identifier': 'NO0042G.20180101000000.20190508191242.dmps.particle_number_size_distribution.pm10.1y.1h.NO01L_NILU_DMPSmodel2_ZEP.NO01L_dmps_DMPS_ZEP01.lev2.nc', 'language': 'en', 'hierarchy_level': 'dataset', 'online_resource': {'linkage': 'https://www.nilu.no/'}, 'contact': [{'first_name': 'Markus', 'last_name': 'Fiebig', 'organisation_name': 'Norwegian Institute for Air Research (NILU)', 'role_code': ['custodian'], 'country': 'Norway', 'delivery_point': 'Insituttveien 18', 'address_city': 'Kjeller', 'administrative_area': 'Viken', 'postal_code': 2007, 'email': 'ebas@nilu.no', 'position_name': 'Senior Scientist'}], 'datestamp': '2019-05-08T17:12:42.0000000Z'}}, {'md_keywords': {'keywords': ['NO0042G,', 'Zeppelin', 'mountain', '(Ny-Ålesund),', 'pm10,', 'particle_number_size_distribution,', 'GAW-WDCA,', 'ACTRIS,', 'EMEP,', 'NILU']}, 'md_metadata': {'id': 326, 'file_identifier': 'NO0042G.20180101000000.20190508191242.dmps.particle_number_size_distribution.pm10.1y.1h.NO01L_NILU_DMPSmodel2_ZEP.NO01L_dmps_DMPS_ZEP01.lev2.nc', 'language': 'en', 'hierarchy_level': 'dataset', 'online_resource': {'linkage': 'https://www.nilu.no/'}, 'contact': [{'first_name': 'Markus', 'last_name': 'Fiebig', 'organisation_name': 'Norwegian Institute for Air Research (NILU)', 'role_code': ['custodian'], 'country': 'Norway', 'delivery_point': 'Insituttveien 18', 'address_city': 'Kjeller', 'administrative_area': 'Viken', 'postal_code': 2007, 'email': 'ebas@nilu.no', 'position_name': 'Senior Scientist'}], 'datestamp': '2019-05-08T17:12:42.0000000Z'}}, {'md_keywords': {'keywords': ['NO0042G,', 'Zeppelin', 'mountain', '(Ny-Ålesund),', 'pm10,', 'particle_number_size_distribution,', 'GAW-WDCA,', 'ACTRIS,', 'EMEP,', 'NILU']}, 'md_metadata': {'id': 327, 'file_identifier': 'NO0042G.20180101000000.20190508191242.dmps.particle_number_size_distribution.pm10.1y.1h.NO01L_NILU_DMPSmodel2_ZEP.NO01L_dmps_DMPS_ZEP01.lev2.nc', 'language': 'en', 'hierarchy_level': 'dataset', 'online_resource': {'linkage': 'https://www.nilu.no/'}, 'contact': [{'first_name': 'Markus', 'last_name': 'Fiebig', 'organisation_name': 'Norwegian Institute for Air Research (NILU)', 'role_code': ['custodian'], 'country': 'Norway', 'delivery_point': 'Insituttveien 18', 'address_city': 'Kjeller', 'administrative_area': 'Viken', 'postal_code': 2007, 'email': 'ebas@nilu.no', 'position_name': 'Senior Scientist'}], 'datestamp': '2019-05-08T17:12:42.0000000Z'}}, {'md_keywords': {'keywords': ['IT0004R,', 'pm10,', 'particle_number_size_distribution,', 'GAW-WDCA,', 'Ispra,', 'ACTRIS,', 'EMEP']}, 'md_metadata': {'id': 328, 'file_identifier': 'IT0004R.20160101000000.20170426000000.dmps.particle_number_size_distribution.pm10.1y.1h.IT04L_Ispra-B.IT04L_DMPS_Ispra-B.lev2.nc', 'language': 'en', 'hierarchy_level': 'dataset', 'online_resource': {'linkage': 'https://www.nilu.no/'}, 'contact': [{'first_name': 'Markus', 'last_name': 'Fiebig', 'organisation_name': 'Norwegian Institute for Air Research (NILU)', 'role_code': ['custodian'], 'country': 'Norway', 'delivery_point': 'Insituttveien 18', 'address_city': 'Kjeller', 'administrative_area': 'Viken', 'postal_code': 2007, 'email': 'ebas@nilu.no', 'position_name': 'Senior Scientist'}], 'datestamp': '2017-04-25T22:00:00.0000000Z'}}, {'md_keywords': {'keywords': ['IT0004R,', 'pm10,', 'particle_number_size_distribution,', 'GAW-WDCA,', 'Ispra,', 'ACTRIS,', 'EMEP']}, 'md_metadata': {'id': 329, 'file_identifier': 'IT0004R.20160101000000.20170426000000.dmps.particle_number_size_distribution.pm10.1y.1h.IT04L_Ispra-B.IT04L_DMPS_Ispra-B.lev2.nc', 'language': 'en', 'hierarchy_level': 'dataset', 'online_resource': {'linkage': 'https://www.nilu.no/'}, 'contact': [{'first_name': 'Markus', 'last_name': 'Fiebig', 'organisation_name': 'Norwegian Institute for Air Research (NILU)', 'role_code': ['custodian'], 'country': 'Norway', 'delivery_point': 'Insituttveien 18', 'address_city': 'Kjeller', 'administrative_area': 'Viken', 'postal_code': 2007, 'email': 'ebas@nilu.no', 'position_name': 'Senior Scientist'}], 'datestamp': '2017-04-25T22:00:00.0000000Z'}}, {'md_keywords': {'keywords': ['pm10,']}, 'md_metadata': {'id': 330, 'file_identifier': 'DE0044R.20120817000000.20170801184358.DMPS-CCNC.cloud_condensation_nuclei_number_size_distribution.pm10.120w.1d.DE08L_DMPS-TROPOS.DE08L_None.lev2.nc', 'language': 'en', 'hierarchy_level': 'dataset', 'online_resource': {'linkage': 'https://www.nilu.no/'}, 'contact': [{'first_name': 'Markus', 'last_name': 'Fiebig', 'organisation_name': 'Norwegian Institute for Air Research (NILU)', 'role_code': ['custodian'], 'country': 'Norway', 'delivery_point': 'Insituttveien 18', 'address_city': 'Kjeller', 'administrative_area': 'Viken', 'postal_code': 2007, 'email': 'ebas@nilu.no', 'position_name': 'Senior Scientist'}], 'datestamp': '2017-08-01T16:43:58.0000000Z'}}, {'md_keywords': {'keywords': ['pm10,', 'Melpitz,', 'GAW-WDCA']}, 'md_metadata': {'id': 331, 'file_identifier': 'DE0044R.20120817000000.20170801184358.DMPS-CCNC.cloud_condensation_nuclei_number_size_distribution.pm10.120w.1d.DE08L_DMPS-TROPOS.DE08L_None.lev2.nc', 'language': 'en', 'hierarchy_level': 'dataset', 'online_resource': {'linkage': 'https://www.nilu.no/'}, 'contact': [{'first_name': 'Markus', 'last_name': 'Fiebig', 'organisation_name': 'Norwegian Institute for Air Research (NILU)', 'role_code': ['custodian'], 'country': 'Norway', 'delivery_point': 'Insituttveien 18', 'address_city': 'Kjeller', 'administrative_area': 'Viken', 'postal_code': 2007, 'email': 'ebas@nilu.no', 'position_name': 'Senior Scientist'}], 'datestamp': '2017-08-01T16:43:58.0000000Z'}}, {'md_keywords': {'keywords': ['pm10,', 'Melpitz,', 'log10_size_interval_based_number_size_distribution_of_,', 'GAW-WDCA']}, 'md_metadata': {'id': 332, 'file_identifier': 'DE0044R.20120817000000.20170801184358.DMPS-CCNC.cloud_condensation_nuclei_number_size_distribution.pm10.120w.1d.DE08L_DMPS-TROPOS.DE08L_None.lev2.nc', 'language': 'en', 'hierarchy_level': 'dataset', 'online_resource': {'linkage': 'https://www.nilu.no/'}, 'contact': [{'first_name': 'Markus', 'last_name': 'Fiebig', 'organisation_name': 'Norwegian Institute for Air Research (NILU)', 'role_code': ['custodian'], 'country': 'Norway', 'delivery_point': 'Insituttveien 18', 'address_city': 'Kjeller', 'administrative_area': 'Viken', 'postal_code': 2007, 'email': 'ebas@nilu.no', 'position_name': 'Senior Scientist'}], 'datestamp': '2017-08-01T16:43:58.0000000Z'}}, {'md_keywords': {'keywords': ['pm10,', 'Melpitz,', 'log10_size_interval_based_number_size_distribution_of_cloud_c,', 'GAW-WDCA']}, 'md_metadata': {'id': 333, 'file_identifier': 'DE0044R.20120817000000.20170801184358.DMPS-CCNC.cloud_condensation_nuclei_number_size_distribution.pm10.120w.1d.DE08L_DMPS-TROPOS.DE08L_None.lev2.nc', 'language': 'en', 'hierarchy_level': 'dataset', 'online_resource': {'linkage': 'https://www.nilu.no/'}, 'contact': [{'first_name': 'Markus', 'last_name': 'Fiebig', 'organisation_name': 'Norwegian Institute for Air Research (NILU)', 'role_code': ['custodian'], 'country': 'Norway', 'delivery_point': 'Insituttveien 18', 'address_city': 'Kjeller', 'administrative_area': 'Viken', 'postal_code': 2007, 'email': 'ebas@nilu.no', 'position_name': 'Senior Scientist'}], 'datestamp': '2017-08-01T16:43:58.0000000Z'}}, {'md_keywords': {'keywords': ['pm10,', 'Melpitz,', 'log10_size_interval_based_number_size_distribution_of_cloud_,', 'GAW-WDCA']}, 'md_metadata': {'id': 334, 'file_identifier': 'DE0044R.20120817000000.20170801184358.DMPS-CCNC.cloud_condensation_nuclei_number_size_distribution.pm10.120w.1d.DE08L_DMPS-TROPOS.DE08L_None.lev2.nc', 'language': 'en', 'hierarchy_level': 'dataset', 'online_resource': {'linkage': 'https://www.nilu.no/'}, 'contact': [{'first_name': 'Markus', 'last_name': 'Fiebig', 'organisation_name': 'Norwegian Institute for Air Research (NILU)', 'role_code': ['custodian'], 'country': 'Norway', 'delivery_point': 'Insituttveien 18', 'address_city': 'Kjeller', 'administrative_area': 'Viken', 'postal_code': 2007, 'email': 'ebas@nilu.no', 'position_name': 'Senior Scientist'}], 'datestamp': '2017-08-01T16:43:58.0000000Z'}}, {'md_keywords': {'keywords': ['pm10,', 'Melpitz,', 'log10_size_interval_based_number_size_distribution_of_cloud_', 'GAW-WDCA,', 'DE0044R,', 'ACTRIS,', 'cloud_condensation_nuclei_number_size_distribution']}, 'md_metadata': {'id': 335, 'file_identifier': 'DE0044R.20120817000000.20170801184358.DMPS-CCNC.cloud_condensation_nuclei_number_size_distribution.pm10.120w.1d.DE08L_DMPS-TROPOS.DE08L_None.lev2.nc', 'language': 'en', 'hierarchy_level': 'dataset', 'online_resource': {'linkage': 'https://www.nilu.no/'}, 'contact': [{'first_name': 'Markus', 'last_name': 'Fiebig', 'organisation_name': 'Norwegian Institute for Air Research (NILU)', 'role_code': ['custodian'], 'country': 'Norway', 'delivery_point': 'Insituttveien 18', 'address_city': 'Kjeller', 'administrative_area': 'Viken', 'postal_code': 2007, 'email': 'ebas@nilu.no', 'position_name': 'Senior Scientist'}], 'datestamp': '2017-08-01T16:43:58.0000000Z'}}, {'md_keywords': {'keywords': ['pm10,', 'HU0002R,', 'particle_number_size_distribution,', 'GAW-WDCA,', 'ACTRIS,', 'EMEP,', 'K-puszta']}, 'md_metadata': {'id': 336, 'file_identifier': 'HU0002R.20120101000000.20190614082036.dmps.particle_number_size_distribution.pm10.2y.1h.FI03L_UHEL_DMPS_PUS_01.FI03L_DMPS_PUS_01.lev2.nc', 'language': 'en', 'hierarchy_level': 'dataset', 'online_resource': {'linkage': 'https://www.nilu.no/'}, 'contact': [{'first_name': 'Markus', 'last_name': 'Fiebig', 'organisation_name': 'Norwegian Institute for Air Research (NILU)', 'role_code': ['custodian'], 'country': 'Norway', 'delivery_point': 'Insituttveien 18', 'address_city': 'Kjeller', 'administrative_area': 'Viken', 'postal_code': 2007, 'email': 'ebas@nilu.no', 'position_name': 'Senior Scientist'}], 'datestamp': '2019-06-14T06:20:36.0000000Z'}}, {'md_keywords': {'keywords': ['NO0042G,', 'Zeppelin', 'mountain', '(Ny-Ålesund),', 'pm10,', 'particle_number_size_distribution,', 'GAW-WDCA,', 'ACTRIS,', 'EMEP,', 'NILU']}, 'md_metadata': {'id': 337, 'file_identifier': 'NO0042G.20180101000000.20190508191242.dmps.particle_number_size_distribution.pm10.1y.1h.NO01L_NILU_DMPSmodel2_ZEP.NO01L_dmps_DMPS_ZEP01.lev2.nc', 'language': 'en', 'hierarchy_level': 'dataset', 'online_resource': {'linkage': 'https://www.nilu.no/'}, 'contact': [{'first_name': 'Markus', 'last_name': 'Fiebig', 'organisation_name': 'Norwegian Institute for Air Research (NILU)', 'role_code': ['custodian'], 'country': 'Norway', 'delivery_point': 'Insituttveien 18', 'address_city': 'Kjeller', 'administrative_area': 'Viken', 'postal_code': 2007, 'email': 'ebas@nilu.no', 'position_name': 'Senior Scientist'}], 'datestamp': '2019-05-08T17:12:42.0000000Z'}}, {'md_keywords': {'keywords': ['IT0004R,', 'pm10,', 'particle_number_size_distribution,', 'GAW-WDCA,', 'Ispra,', 'ACTRIS,', 'EMEP']}, 'md_metadata': {'id': 338, 'file_identifier': 'IT0004R.20160101000000.20170426000000.dmps.particle_number_size_distribution.pm10.1y.1h.IT04L_Ispra-B.IT04L_DMPS_Ispra-B.lev2.nc', 'language': 'en', 'hierarchy_level': 'dataset', 'online_resource': {'linkage': 'https://www.nilu.no/'}, 'contact': [{'first_name': 'Markus', 'last_name': 'Fiebig', 'organisation_name': 'Norwegian Institute for Air Research (NILU)', 'role_code': ['custodian'], 'country': 'Norway', 'delivery_point': 'Insituttveien 18', 'address_city': 'Kjeller', 'administrative_area': 'Viken', 'postal_code': 2007, 'email': 'ebas@nilu.no', 'position_name': 'Senior Scientist'}], 'datestamp': '2017-04-25T22:00:00.0000000Z'}}, {'md_keywords': {'keywords': ['pm10,', 'HU0002R,', 'particle_number_size_distribution,', 'GAW-WDCA,', 'ACTRIS,', 'EMEP,', 'K-puszta']}, 'md_metadata': {'id': 339, 'file_identifier': 'HU0002R.20120101000000.20190614082036.dmps.particle_number_size_distribution.pm10.2y.1h.FI03L_UHEL_DMPS_PUS_01.FI03L_DMPS_PUS_01.lev2.nc', 'language': 'en', 'hierarchy_level': 'dataset', 'online_resource': {'linkage': 'https://www.nilu.no/'}, 'contact': [{'first_name': 'Markus', 'last_name': 'Fiebig', 'organisation_name': 'Norwegian Institute for Air Research (NILU)', 'role_code': ['custodian'], 'country': 'Norway', 'delivery_point': 'Insituttveien 18', 'address_city': 'Kjeller', 'administrative_area': 'Viken', 'postal_code': 2007, 'email': 'ebas@nilu.no', 'position_name': 'Senior Scientist'}], 'datestamp': '2019-06-14T06:20:36.0000000Z'}}, {'md_keywords': {'keywords': ['pm10,', 'HU0002R,', 'particle_number_size_distribution,', 'GAW-WDCA,', 'ACTRIS,', 'EMEP,', 'K-puszta']}, 'md_metadata': {'id': 340, 'file_identifier': 'HU0002R.20120101000000.20190614082036.dmps.particle_number_size_distribution.pm10.2y.1h.FI03L_UHEL_DMPS_PUS_01.FI03L_DMPS_PUS_01.lev2.nc', 'language': 'en', 'hierarchy_level': 'dataset', 'online_resource': {'linkage': 'https://www.nilu.no/'}, 'contact': [{'first_name': 'Markus', 'last_name': 'Fiebig', 'organisation_name': 'Norwegian Institute for Air Research (NILU)', 'role_code': ['custodian'], 'country': 'Norway', 'delivery_point': 'Insituttveien 18', 'address_city': 'Kjeller', 'administrative_area': 'Viken', 'postal_code': 2007, 'email': 'ebas@nilu.no', 'position_name': 'Senior Scientist'}], 'datestamp': '2019-06-14T06:20:36.0000000Z'}}, {'md_keywords': {'keywords': ['NO0042G,', 'Zeppelin', 'mountain', '(Ny-Ålesund),', 'pm10,', 'particle_number_size_distribution,', 'GAW-WDCA,', 'ACTRIS,', 'EMEP,', 'NILU']}, 'md_metadata': {'id': 341, 'file_identifier': 'NO0042G.20180101000000.20190508191242.dmps.particle_number_size_distribution.pm10.1y.1h.NO01L_NILU_DMPSmodel2_ZEP.NO01L_dmps_DMPS_ZEP01.lev2.nc', 'language': 'en', 'hierarchy_level': 'dataset', 'online_resource': {'linkage': 'https://www.nilu.no/'}, 'contact': [{'first_name': 'Markus', 'last_name': 'Fiebig', 'organisation_name': 'Norwegian Institute for Air Research (NILU)', 'role_code': ['custodian'], 'country': 'Norway', 'delivery_point': 'Insituttveien 18', 'address_city': 'Kjeller', 'administrative_area': 'Viken', 'postal_code': 2007, 'email': 'ebas@nilu.no', 'position_name': 'Senior Scientist'}], 'datestamp': '2019-05-08T17:12:42.0000000Z'}}, {'md_keywords': {'keywords': ['NO0042G,', 'Zeppelin', 'mountain', '(Ny-Ålesund),', 'pm10,', 'particle_number_size_distribution,', 'GAW-WDCA,', 'ACTRIS,', 'EMEP,', 'NILU']}, 'md_metadata': {'id': 342, 'file_identifier': 'NO0042G.20180101000000.20190508191242.dmps.particle_number_size_distribution.pm10.1y.1h.NO01L_NILU_DMPSmodel2_ZEP.NO01L_dmps_DMPS_ZEP01.lev2.nc', 'language': 'en', 'hierarchy_level': 'dataset', 'online_resource': {'linkage': 'https://www.nilu.no/'}, 'contact': [{'first_name': 'Markus', 'last_name': 'Fiebig', 'organisation_name': 'Norwegian Institute for Air Research (NILU)', 'role_code': ['custodian'], 'country': 'Norway', 'delivery_point': 'Insituttveien 18', 'address_city': 'Kjeller', 'administrative_area': 'Viken', 'postal_code': 2007, 'email': 'ebas@nilu.no', 'position_name': 'Senior Scientist'}], 'datestamp': '2019-05-08T17:12:42.0000000Z'}}, {'md_keywords': {'keywords': ['NO0042G,', 'Zeppelin', 'mountain', '(Ny-Ålesund),', 'pm10,', 'particle_number_size_distribution,', 'GAW-WDCA,', 'ACTRIS,', 'EMEP,', 'NILU']}, 'md_metadata': {'id': 343, 'file_identifier': 'NO0042G.20180101000000.20190508191242.dmps.particle_number_size_distribution.pm10.1y.1h.NO01L_NILU_DMPSmodel2_ZEP.NO01L_dmps_DMPS_ZEP01.lev2.nc', 'language': 'en', 'hierarchy_level': 'dataset', 'online_resource': {'linkage': 'https://www.nilu.no/'}, 'contact': [{'first_name': 'Markus', 'last_name': 'Fiebig', 'organisation_name': 'Norwegian Institute for Air Research (NILU)', 'role_code': ['custodian'], 'country': 'Norway', 'delivery_point': 'Insituttveien 18', 'address_city': 'Kjeller', 'administrative_area': 'Viken', 'postal_code': 2007, 'email': 'ebas@nilu.no', 'position_name': 'Senior Scientist'}], 'datestamp': '2019-05-08T17:12:42.0000000Z'}}, {'md_keywords': {'keywords': ['NO0042G,', 'Zeppelin', 'mountain', '(Ny-Ålesund),', 'pm10,', 'particle_number_size_distribution,', 'GAW-WDCA,', 'ACTRIS,', 'EMEP,', 'NILU']}, 'md_metadata': {'id': 344, 'file_identifier': 'NO0042G.20180101000000.20190508191242.dmps.particle_number_size_distribution.pm10.1y.1h.NO01L_NILU_DMPSmodel2_ZEP.NO01L_dmps_DMPS_ZEP01.lev2.nc', 'language': 'en', 'hierarchy_level': 'dataset', 'online_resource': {'linkage': 'https://www.nilu.no/'}, 'contact': [{'first_name': 'Markus', 'last_name': 'Fiebig', 'organisation_name': 'Norwegian Institute for Air Research (NILU)', 'role_code': ['custodian'], 'country': 'Norway', 'delivery_point': 'Insituttveien 18', 'address_city': 'Kjeller', 'administrative_area': 'Viken', 'postal_code': 2007, 'email': 'ebas@nilu.no', 'position_name': 'Senior Scientist'}], 'datestamp': '2019-05-08T17:12:42.0000000Z'}}, {'md_keywords': {'keywords': ['NO0042G,', 'Zeppelin', 'mountain', '(Ny-Ålesund),', 'pm10,', 'particle_number_size_distribution,', 'GAW-WDCA,', 'ACTRIS,', 'EMEP,', 'NILU']}, 'md_metadata': {'id': 345, 'file_identifier': 'NO0042G.20180101000000.20190508191242.dmps.particle_number_size_distribution.pm10.1y.1h.NO01L_NILU_DMPSmodel2_ZEP.NO01L_dmps_DMPS_ZEP01.lev2.nc', 'language': 'en', 'hierarchy_level': 'dataset', 'online_resource': {'linkage': 'https://www.nilu.no/'}, 'contact': [{'first_name': 'Markus', 'last_name': 'Fiebig', 'organisation_name': 'Norwegian Institute for Air Research (NILU)', 'role_code': ['custodian'], 'country': 'Norway', 'delivery_point': 'Insituttveien 18', 'address_city': 'Kjeller', 'administrative_area': 'Viken', 'postal_code': 2007, 'email': 'ebas@nilu.no', 'position_name': 'Senior Scientist'}], 'datestamp': '2019-05-08T17:12:42.0000000Z'}}, {'md_keywords': {'keywords': ['NO0042G,', 'Zeppelin', 'mountain', '(Ny-Ålesund),', 'pm10,', 'particle_number_size_distribution,', 'GAW-WDCA,', 'ACTRIS,', 'EMEP,', 'NILU']}, 'md_metadata': {'id': 346, 'file_identifier': 'NO0042G.20180101000000.20190508191242.dmps.particle_number_size_distribution.pm10.1y.1h.NO01L_NILU_DMPSmodel2_ZEP.NO01L_dmps_DMPS_ZEP01.lev2.nc', 'language': 'en', 'hierarchy_level': 'dataset', 'online_resource': {'linkage': 'https://www.nilu.no/'}, 'contact': [{'first_name': 'Markus', 'last_name': 'Fiebig', 'organisation_name': 'Norwegian Institute for Air Research (NILU)', 'role_code': ['custodian'], 'country': 'Norway', 'delivery_point': 'Insituttveien 18', 'address_city': 'Kjeller', 'administrative_area': 'Viken', 'postal_code': 2007, 'email': 'ebas@nilu.no', 'position_name': 'Senior Scientist'}], 'datestamp': '2019-05-08T17:12:42.0000000Z'}}, {'md_keywords': {'keywords': ['NO0042G,', 'Zeppelin', 'mountain', '(Ny-Ålesund),', 'pm10,', 'particle_number_size_distribution,', 'GAW-WDCA,', 'ACTRIS,', 'EMEP,', 'NILU']}, 'md_metadata': {'id': 347, 'file_identifier': 'NO0042G.20180101000000.20190508191242.dmps.particle_number_size_distribution.pm10.1y.1h.NO01L_NILU_DMPSmodel2_ZEP.NO01L_dmps_DMPS_ZEP01.lev2.nc', 'language': 'en', 'hierarchy_level': 'dataset', 'online_resource': {'linkage': 'https://www.nilu.no/'}, 'contact': [{'first_name': 'Markus', 'last_name': 'Fiebig', 'organisation_name': 'Norwegian Institute for Air Research (NILU)', 'role_code': ['custodian'], 'country': 'Norway', 'delivery_point': 'Insituttveien 18', 'address_city': 'Kjeller', 'administrative_area': 'Viken', 'postal_code': 2007, 'email': 'ebas@nilu.no', 'position_name': 'Senior Scientist'}], 'datestamp': '2019-05-08T17:12:42.0000000Z'}}, {'md_keywords': {'keywords': ['NO0042G,', 'Zeppelin', 'mountain', '(Ny-Ålesund),', 'pm10,', 'particle_number_size_distribution,', 'GAW-WDCA,', 'ACTRIS,', 'EMEP,', 'NILU']}, 'md_metadata': {'id': 348, 'file_identifier': 'NO0042G.20180101000000.20190508191242.dmps.particle_number_size_distribution.pm10.1y.1h.NO01L_NILU_DMPSmodel2_ZEP.NO01L_dmps_DMPS_ZEP01.lev2.nc', 'language': 'en', 'hierarchy_level': 'dataset', 'online_resource': {'linkage': 'https://www.nilu.no/'}, 'contact': [{'first_name': 'Markus', 'last_name': 'Fiebig', 'organisation_name': 'Norwegian Institute for Air Research (NILU)', 'role_code': ['custodian'], 'country': 'Norway', 'delivery_point': 'Insituttveien 18', 'address_city': 'Kjeller', 'administrative_area': 'Viken', 'postal_code': 2007, 'email': 'ebas@nilu.no', 'position_name': 'Senior Scientist'}], 'datestamp': '2019-05-08T17:12:42.0000000Z'}}, {'md_keywords': {'keywords': ['NO0042G,', 'Zeppelin', 'mountain', '(Ny-Ålesund),', 'pm10,', 'particle_number_size_distribution,', 'GAW-WDCA,', 'ACTRIS,', 'EMEP,', 'NILU']}, 'md_metadata': {'id': 349, 'file_identifier': 'NO0042G.20180101000000.20190508191242.dmps.particle_number_size_distribution.pm10.1y.1h.NO01L_NILU_DMPSmodel2_ZEP.NO01L_dmps_DMPS_ZEP01.lev2.nc', 'language': 'en', 'hierarchy_level': 'dataset', 'online_resource': {'linkage': 'https://www.nilu.no/'}, 'contact': [{'first_name': 'Markus', 'last_name': 'Fiebig', 'organisation_name': 'Norwegian Institute for Air Research (NILU)', 'role_code': ['custodian'], 'country': 'Norway', 'delivery_point': 'Insituttveien 18', 'address_city': 'Kjeller', 'administrative_area': 'Viken', 'postal_code': 2007, 'email': 'ebas@nilu.no', 'position_name': 'Senior Scientist'}], 'datestamp': '2019-05-08T17:12:42.0000000Z'}}]\n"
     ]
    }
   ],
   "source": [
    "print(metadata)"
   ]
  },
  {
   "cell_type": "code",
   "execution_count": null,
   "metadata": {},
   "outputs": [],
   "source": []
  },
  {
   "cell_type": "code",
   "execution_count": null,
   "metadata": {},
   "outputs": [],
   "source": []
  }
 ],
 "metadata": {
  "kernelspec": {
   "display_name": "Python 3",
   "language": "python",
   "name": "python3"
  },
  "language_info": {
   "codemirror_mode": {
    "name": "ipython",
    "version": 3
   },
   "file_extension": ".py",
   "mimetype": "text/x-python",
   "name": "python",
   "nbconvert_exporter": "python",
   "pygments_lexer": "ipython3",
   "version": "3.7.4"
  }
 },
 "nbformat": 4,
 "nbformat_minor": 2
}
